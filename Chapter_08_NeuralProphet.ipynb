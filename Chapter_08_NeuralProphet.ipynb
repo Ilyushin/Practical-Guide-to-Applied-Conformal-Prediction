{
 "cells": [
  {
   "cell_type": "markdown",
   "metadata": {
    "id": "ihPvjjn6TX3G"
   },
   "source": [
    "## **Conformal Prediction using Energy Hospital Load**\n",
    "\n",
    "One example of the NP data is the electricity consumption of a hospital in SF. It has hourly reservation for the entire year of 2015."
   ]
  },
  {
   "cell_type": "markdown",
   "metadata": {
    "id": "i3RiqohGTX3I"
   },
   "source": [
    "### Library Setup\n",
    "Requires Python 3.9+"
   ]
  },
  {
   "cell_type": "code",
   "execution_count": 1,
   "metadata": {
    "colab": {
     "base_uri": "https://localhost:8080/"
    },
    "id": "8tXIeU7_TX3I",
    "outputId": "330ad9d2-76e5-4034-8521-d6e5df46d2f0"
   },
   "outputs": [
    {
     "name": "stdout",
     "output_type": "stream",
     "text": [
      "Python 3.9.16\r\n"
     ]
    }
   ],
   "source": [
    "!python --version"
   ]
  },
  {
   "cell_type": "markdown",
   "metadata": {
    "id": "KE9IV2-FTX3J"
   },
   "source": [
    "Install NeuralProphet from scratch"
   ]
  },
  {
   "cell_type": "code",
   "execution_count": 2,
   "metadata": {
    "colab": {
     "base_uri": "https://localhost:8080/"
    },
    "id": "zrq8oNuoTX3K",
    "outputId": "0a96d032-9370-4ce1-eb08-7cea213bdfb6"
   },
   "outputs": [
    {
     "name": "stdout",
     "output_type": "stream",
     "text": [
      "Requirement already satisfied: neuralprophet in /Users/vm/anaconda3/envs/py39/lib/python3.9/site-packages (1.0.0rc3)\n",
      "Requirement already satisfied: captum<0.7.0,>=0.6.0 in /Users/vm/anaconda3/envs/py39/lib/python3.9/site-packages (from neuralprophet) (0.6.0)\n",
      "Requirement already satisfied: holidays<0.22,>=0.21 in /Users/vm/anaconda3/envs/py39/lib/python3.9/site-packages (from neuralprophet) (0.21.13)\n",
      "Requirement already satisfied: kaleido==0.2.1 in /Users/vm/anaconda3/envs/py39/lib/python3.9/site-packages (from neuralprophet) (0.2.1)\n",
      "Requirement already satisfied: matplotlib<4.0.0,>=3.5.3 in /Users/vm/anaconda3/envs/py39/lib/python3.9/site-packages (from neuralprophet) (3.7.1)\n",
      "Requirement already satisfied: nbformat>=4.2.0 in /Users/vm/anaconda3/envs/py39/lib/python3.9/site-packages (from neuralprophet) (5.7.0)\n",
      "Requirement already satisfied: numpy<2.0.0,>=1.22.0 in /Users/vm/anaconda3/envs/py39/lib/python3.9/site-packages (from neuralprophet) (1.23.5)\n",
      "Requirement already satisfied: pandas<2.0.0,>=1.3.5 in /Users/vm/anaconda3/envs/py39/lib/python3.9/site-packages (from neuralprophet) (1.5.3)\n",
      "Requirement already satisfied: plotly<6.0.0,>=5.13.1 in /Users/vm/anaconda3/envs/py39/lib/python3.9/site-packages (from neuralprophet) (5.15.0)\n",
      "Requirement already satisfied: plotly-resampler<0.9.0.0,>=0.8.3.1 in /Users/vm/anaconda3/envs/py39/lib/python3.9/site-packages (from neuralprophet) (0.8.3.2)\n",
      "Requirement already satisfied: pytorch-lightning<2.0.0,>=1.9.4 in /Users/vm/anaconda3/envs/py39/lib/python3.9/site-packages (from neuralprophet) (1.9.5)\n",
      "Requirement already satisfied: tensorboard<3.0.0,>=2.11.2 in /Users/vm/anaconda3/envs/py39/lib/python3.9/site-packages (from neuralprophet) (2.13.0)\n",
      "Requirement already satisfied: torch<2.0.0,>=1.13.1 in /Users/vm/anaconda3/envs/py39/lib/python3.9/site-packages (from neuralprophet) (1.13.1)\n",
      "Requirement already satisfied: torchmetrics<0.12.0,>=0.11.3 in /Users/vm/anaconda3/envs/py39/lib/python3.9/site-packages (from neuralprophet) (0.11.4)\n",
      "Requirement already satisfied: typing-extensions<5.0.0,>=4.5.0 in /Users/vm/anaconda3/envs/py39/lib/python3.9/site-packages (from neuralprophet) (4.6.3)\n",
      "Requirement already satisfied: PyMeeus in /Users/vm/anaconda3/envs/py39/lib/python3.9/site-packages (from holidays<0.22,>=0.21->neuralprophet) (0.5.12)\n",
      "Requirement already satisfied: convertdate>=2.3.0 in /Users/vm/anaconda3/envs/py39/lib/python3.9/site-packages (from holidays<0.22,>=0.21->neuralprophet) (2.4.0)\n",
      "Requirement already satisfied: hijri-converter in /Users/vm/anaconda3/envs/py39/lib/python3.9/site-packages (from holidays<0.22,>=0.21->neuralprophet) (2.3.1)\n",
      "Requirement already satisfied: korean-lunar-calendar in /Users/vm/anaconda3/envs/py39/lib/python3.9/site-packages (from holidays<0.22,>=0.21->neuralprophet) (0.3.1)\n",
      "Requirement already satisfied: python-dateutil in /Users/vm/anaconda3/envs/py39/lib/python3.9/site-packages (from holidays<0.22,>=0.21->neuralprophet) (2.8.2)\n",
      "Requirement already satisfied: contourpy>=1.0.1 in /Users/vm/anaconda3/envs/py39/lib/python3.9/site-packages (from matplotlib<4.0.0,>=3.5.3->neuralprophet) (1.0.5)\n",
      "Requirement already satisfied: cycler>=0.10 in /Users/vm/anaconda3/envs/py39/lib/python3.9/site-packages (from matplotlib<4.0.0,>=3.5.3->neuralprophet) (0.11.0)\n",
      "Requirement already satisfied: fonttools>=4.22.0 in /Users/vm/anaconda3/envs/py39/lib/python3.9/site-packages (from matplotlib<4.0.0,>=3.5.3->neuralprophet) (4.25.0)\n",
      "Requirement already satisfied: kiwisolver>=1.0.1 in /Users/vm/anaconda3/envs/py39/lib/python3.9/site-packages (from matplotlib<4.0.0,>=3.5.3->neuralprophet) (1.4.4)\n",
      "Requirement already satisfied: packaging>=20.0 in /Users/vm/anaconda3/envs/py39/lib/python3.9/site-packages (from matplotlib<4.0.0,>=3.5.3->neuralprophet) (23.0)\n",
      "Requirement already satisfied: pillow>=6.2.0 in /Users/vm/anaconda3/envs/py39/lib/python3.9/site-packages (from matplotlib<4.0.0,>=3.5.3->neuralprophet) (9.4.0)\n",
      "Requirement already satisfied: pyparsing>=2.3.1 in /Users/vm/anaconda3/envs/py39/lib/python3.9/site-packages (from matplotlib<4.0.0,>=3.5.3->neuralprophet) (3.0.9)\n",
      "Requirement already satisfied: importlib-resources>=3.2.0 in /Users/vm/anaconda3/envs/py39/lib/python3.9/site-packages (from matplotlib<4.0.0,>=3.5.3->neuralprophet) (5.2.0)\n",
      "Requirement already satisfied: fastjsonschema in /Users/vm/anaconda3/envs/py39/lib/python3.9/site-packages (from nbformat>=4.2.0->neuralprophet) (2.16.2)\n",
      "Requirement already satisfied: jsonschema>=2.6 in /Users/vm/anaconda3/envs/py39/lib/python3.9/site-packages (from nbformat>=4.2.0->neuralprophet) (4.17.3)\n",
      "Requirement already satisfied: jupyter-core in /Users/vm/anaconda3/envs/py39/lib/python3.9/site-packages (from nbformat>=4.2.0->neuralprophet) (5.3.0)\n",
      "Requirement already satisfied: traitlets>=5.1 in /Users/vm/anaconda3/envs/py39/lib/python3.9/site-packages (from nbformat>=4.2.0->neuralprophet) (5.7.1)\n",
      "Requirement already satisfied: pytz>=2020.1 in /Users/vm/anaconda3/envs/py39/lib/python3.9/site-packages (from pandas<2.0.0,>=1.3.5->neuralprophet) (2022.7)\n",
      "Requirement already satisfied: tenacity>=6.2.0 in /Users/vm/anaconda3/envs/py39/lib/python3.9/site-packages (from plotly<6.0.0,>=5.13.1->neuralprophet) (8.2.2)\n",
      "Requirement already satisfied: dash<3.0.0,>=2.2.0 in /Users/vm/anaconda3/envs/py39/lib/python3.9/site-packages (from plotly-resampler<0.9.0.0,>=0.8.3.1->neuralprophet) (2.10.2)\n",
      "Requirement already satisfied: jupyter-dash>=0.4.2 in /Users/vm/anaconda3/envs/py39/lib/python3.9/site-packages (from plotly-resampler<0.9.0.0,>=0.8.3.1->neuralprophet) (0.4.2)\n",
      "Requirement already satisfied: orjson<4.0.0,>=3.8.0 in /Users/vm/anaconda3/envs/py39/lib/python3.9/site-packages (from plotly-resampler<0.9.0.0,>=0.8.3.1->neuralprophet) (3.9.1)\n",
      "Requirement already satisfied: trace-updater>=0.0.8 in /Users/vm/anaconda3/envs/py39/lib/python3.9/site-packages (from plotly-resampler<0.9.0.0,>=0.8.3.1->neuralprophet) (0.0.9.1)\n",
      "Requirement already satisfied: tqdm>=4.57.0 in /Users/vm/anaconda3/envs/py39/lib/python3.9/site-packages (from pytorch-lightning<2.0.0,>=1.9.4->neuralprophet) (4.65.0)\n",
      "Requirement already satisfied: PyYAML>=5.4 in /Users/vm/anaconda3/envs/py39/lib/python3.9/site-packages (from pytorch-lightning<2.0.0,>=1.9.4->neuralprophet) (6.0)\n",
      "Requirement already satisfied: fsspec[http]>2021.06.0 in /Users/vm/anaconda3/envs/py39/lib/python3.9/site-packages (from pytorch-lightning<2.0.0,>=1.9.4->neuralprophet) (2023.6.0)\n",
      "Requirement already satisfied: lightning-utilities>=0.6.0.post0 in /Users/vm/anaconda3/envs/py39/lib/python3.9/site-packages (from pytorch-lightning<2.0.0,>=1.9.4->neuralprophet) (0.8.0)\n",
      "Requirement already satisfied: absl-py>=0.4 in /Users/vm/anaconda3/envs/py39/lib/python3.9/site-packages (from tensorboard<3.0.0,>=2.11.2->neuralprophet) (1.4.0)\n",
      "Requirement already satisfied: grpcio>=1.48.2 in /Users/vm/anaconda3/envs/py39/lib/python3.9/site-packages (from tensorboard<3.0.0,>=2.11.2->neuralprophet) (1.54.2)\n",
      "Requirement already satisfied: google-auth<3,>=1.6.3 in /Users/vm/anaconda3/envs/py39/lib/python3.9/site-packages (from tensorboard<3.0.0,>=2.11.2->neuralprophet) (2.20.0)\n",
      "Requirement already satisfied: google-auth-oauthlib<1.1,>=0.5 in /Users/vm/anaconda3/envs/py39/lib/python3.9/site-packages (from tensorboard<3.0.0,>=2.11.2->neuralprophet) (1.0.0)\n",
      "Requirement already satisfied: markdown>=2.6.8 in /Users/vm/anaconda3/envs/py39/lib/python3.9/site-packages (from tensorboard<3.0.0,>=2.11.2->neuralprophet) (3.4.3)\n",
      "Requirement already satisfied: protobuf>=3.19.6 in /Users/vm/anaconda3/envs/py39/lib/python3.9/site-packages (from tensorboard<3.0.0,>=2.11.2->neuralprophet) (4.23.3)\n",
      "Requirement already satisfied: requests<3,>=2.21.0 in /Users/vm/anaconda3/envs/py39/lib/python3.9/site-packages (from tensorboard<3.0.0,>=2.11.2->neuralprophet) (2.29.0)\n",
      "Requirement already satisfied: setuptools>=41.0.0 in /Users/vm/anaconda3/envs/py39/lib/python3.9/site-packages (from tensorboard<3.0.0,>=2.11.2->neuralprophet) (67.8.0)\n",
      "Requirement already satisfied: tensorboard-data-server<0.8.0,>=0.7.0 in /Users/vm/anaconda3/envs/py39/lib/python3.9/site-packages (from tensorboard<3.0.0,>=2.11.2->neuralprophet) (0.7.1)\n",
      "Requirement already satisfied: werkzeug>=1.0.1 in /Users/vm/anaconda3/envs/py39/lib/python3.9/site-packages (from tensorboard<3.0.0,>=2.11.2->neuralprophet) (2.2.3)\n",
      "Requirement already satisfied: wheel>=0.26 in /Users/vm/anaconda3/envs/py39/lib/python3.9/site-packages (from tensorboard<3.0.0,>=2.11.2->neuralprophet) (0.38.4)\n"
     ]
    },
    {
     "name": "stdout",
     "output_type": "stream",
     "text": [
      "Requirement already satisfied: Flask<2.3.0,>=1.0.4 in /Users/vm/anaconda3/envs/py39/lib/python3.9/site-packages (from dash<3.0.0,>=2.2.0->plotly-resampler<0.9.0.0,>=0.8.3.1->neuralprophet) (2.2.5)\n",
      "Requirement already satisfied: dash-html-components==2.0.0 in /Users/vm/anaconda3/envs/py39/lib/python3.9/site-packages (from dash<3.0.0,>=2.2.0->plotly-resampler<0.9.0.0,>=0.8.3.1->neuralprophet) (2.0.0)\n",
      "Requirement already satisfied: dash-core-components==2.0.0 in /Users/vm/anaconda3/envs/py39/lib/python3.9/site-packages (from dash<3.0.0,>=2.2.0->plotly-resampler<0.9.0.0,>=0.8.3.1->neuralprophet) (2.0.0)\n",
      "Requirement already satisfied: dash-table==5.0.0 in /Users/vm/anaconda3/envs/py39/lib/python3.9/site-packages (from dash<3.0.0,>=2.2.0->plotly-resampler<0.9.0.0,>=0.8.3.1->neuralprophet) (5.0.0)\n",
      "Requirement already satisfied: aiohttp!=4.0.0a0,!=4.0.0a1 in /Users/vm/anaconda3/envs/py39/lib/python3.9/site-packages (from fsspec[http]>2021.06.0->pytorch-lightning<2.0.0,>=1.9.4->neuralprophet) (3.8.4)\n",
      "Requirement already satisfied: cachetools<6.0,>=2.0.0 in /Users/vm/anaconda3/envs/py39/lib/python3.9/site-packages (from google-auth<3,>=1.6.3->tensorboard<3.0.0,>=2.11.2->neuralprophet) (5.3.1)\n",
      "Requirement already satisfied: pyasn1-modules>=0.2.1 in /Users/vm/anaconda3/envs/py39/lib/python3.9/site-packages (from google-auth<3,>=1.6.3->tensorboard<3.0.0,>=2.11.2->neuralprophet) (0.3.0)\n",
      "Requirement already satisfied: rsa<5,>=3.1.4 in /Users/vm/anaconda3/envs/py39/lib/python3.9/site-packages (from google-auth<3,>=1.6.3->tensorboard<3.0.0,>=2.11.2->neuralprophet) (4.9)\n",
      "Requirement already satisfied: six>=1.9.0 in /Users/vm/anaconda3/envs/py39/lib/python3.9/site-packages (from google-auth<3,>=1.6.3->tensorboard<3.0.0,>=2.11.2->neuralprophet) (1.16.0)\n",
      "Requirement already satisfied: urllib3<2.0 in /Users/vm/anaconda3/envs/py39/lib/python3.9/site-packages (from google-auth<3,>=1.6.3->tensorboard<3.0.0,>=2.11.2->neuralprophet) (1.26.16)\n",
      "Requirement already satisfied: requests-oauthlib>=0.7.0 in /Users/vm/anaconda3/envs/py39/lib/python3.9/site-packages (from google-auth-oauthlib<1.1,>=0.5->tensorboard<3.0.0,>=2.11.2->neuralprophet) (1.3.1)\n",
      "Requirement already satisfied: zipp>=3.1.0 in /Users/vm/anaconda3/envs/py39/lib/python3.9/site-packages (from importlib-resources>=3.2.0->matplotlib<4.0.0,>=3.5.3->neuralprophet) (3.11.0)\n",
      "Requirement already satisfied: attrs>=17.4.0 in /Users/vm/anaconda3/envs/py39/lib/python3.9/site-packages (from jsonschema>=2.6->nbformat>=4.2.0->neuralprophet) (22.1.0)\n",
      "Requirement already satisfied: pyrsistent!=0.17.0,!=0.17.1,!=0.17.2,>=0.14.0 in /Users/vm/anaconda3/envs/py39/lib/python3.9/site-packages (from jsonschema>=2.6->nbformat>=4.2.0->neuralprophet) (0.18.0)\n",
      "Requirement already satisfied: retrying in /Users/vm/anaconda3/envs/py39/lib/python3.9/site-packages (from jupyter-dash>=0.4.2->plotly-resampler<0.9.0.0,>=0.8.3.1->neuralprophet) (1.3.4)\n",
      "Requirement already satisfied: ipython in /Users/vm/anaconda3/envs/py39/lib/python3.9/site-packages (from jupyter-dash>=0.4.2->plotly-resampler<0.9.0.0,>=0.8.3.1->neuralprophet) (8.12.0)\n",
      "Requirement already satisfied: ipykernel in /Users/vm/anaconda3/envs/py39/lib/python3.9/site-packages (from jupyter-dash>=0.4.2->plotly-resampler<0.9.0.0,>=0.8.3.1->neuralprophet) (6.19.2)\n",
      "Requirement already satisfied: ansi2html in /Users/vm/anaconda3/envs/py39/lib/python3.9/site-packages (from jupyter-dash>=0.4.2->plotly-resampler<0.9.0.0,>=0.8.3.1->neuralprophet) (1.8.0)\n",
      "Requirement already satisfied: nest-asyncio in /Users/vm/anaconda3/envs/py39/lib/python3.9/site-packages (from jupyter-dash>=0.4.2->plotly-resampler<0.9.0.0,>=0.8.3.1->neuralprophet) (1.5.6)\n",
      "Requirement already satisfied: importlib-metadata>=4.4 in /Users/vm/anaconda3/envs/py39/lib/python3.9/site-packages (from markdown>=2.6.8->tensorboard<3.0.0,>=2.11.2->neuralprophet) (6.0.0)\n",
      "Requirement already satisfied: charset-normalizer<4,>=2 in /Users/vm/anaconda3/envs/py39/lib/python3.9/site-packages (from requests<3,>=2.21.0->tensorboard<3.0.0,>=2.11.2->neuralprophet) (2.0.4)\n",
      "Requirement already satisfied: idna<4,>=2.5 in /Users/vm/anaconda3/envs/py39/lib/python3.9/site-packages (from requests<3,>=2.21.0->tensorboard<3.0.0,>=2.11.2->neuralprophet) (3.4)\n",
      "Requirement already satisfied: certifi>=2017.4.17 in /Users/vm/anaconda3/envs/py39/lib/python3.9/site-packages (from requests<3,>=2.21.0->tensorboard<3.0.0,>=2.11.2->neuralprophet) (2023.7.22)\n",
      "Requirement already satisfied: MarkupSafe>=2.1.1 in /Users/vm/anaconda3/envs/py39/lib/python3.9/site-packages (from werkzeug>=1.0.1->tensorboard<3.0.0,>=2.11.2->neuralprophet) (2.1.1)\n",
      "Requirement already satisfied: platformdirs>=2.5 in /Users/vm/anaconda3/envs/py39/lib/python3.9/site-packages (from jupyter-core->nbformat>=4.2.0->neuralprophet) (2.5.2)\n",
      "Requirement already satisfied: multidict<7.0,>=4.5 in /Users/vm/anaconda3/envs/py39/lib/python3.9/site-packages (from aiohttp!=4.0.0a0,!=4.0.0a1->fsspec[http]>2021.06.0->pytorch-lightning<2.0.0,>=1.9.4->neuralprophet) (6.0.4)\n",
      "Requirement already satisfied: async-timeout<5.0,>=4.0.0a3 in /Users/vm/anaconda3/envs/py39/lib/python3.9/site-packages (from aiohttp!=4.0.0a0,!=4.0.0a1->fsspec[http]>2021.06.0->pytorch-lightning<2.0.0,>=1.9.4->neuralprophet) (4.0.2)\n",
      "Requirement already satisfied: yarl<2.0,>=1.0 in /Users/vm/anaconda3/envs/py39/lib/python3.9/site-packages (from aiohttp!=4.0.0a0,!=4.0.0a1->fsspec[http]>2021.06.0->pytorch-lightning<2.0.0,>=1.9.4->neuralprophet) (1.9.2)\n",
      "Requirement already satisfied: frozenlist>=1.1.1 in /Users/vm/anaconda3/envs/py39/lib/python3.9/site-packages (from aiohttp!=4.0.0a0,!=4.0.0a1->fsspec[http]>2021.06.0->pytorch-lightning<2.0.0,>=1.9.4->neuralprophet) (1.3.3)\n",
      "Requirement already satisfied: aiosignal>=1.1.2 in /Users/vm/anaconda3/envs/py39/lib/python3.9/site-packages (from aiohttp!=4.0.0a0,!=4.0.0a1->fsspec[http]>2021.06.0->pytorch-lightning<2.0.0,>=1.9.4->neuralprophet) (1.3.1)\n",
      "Requirement already satisfied: Jinja2>=3.0 in /Users/vm/anaconda3/envs/py39/lib/python3.9/site-packages (from Flask<2.3.0,>=1.0.4->dash<3.0.0,>=2.2.0->plotly-resampler<0.9.0.0,>=0.8.3.1->neuralprophet) (3.1.2)\n",
      "Requirement already satisfied: itsdangerous>=2.0 in /Users/vm/anaconda3/envs/py39/lib/python3.9/site-packages (from Flask<2.3.0,>=1.0.4->dash<3.0.0,>=2.2.0->plotly-resampler<0.9.0.0,>=0.8.3.1->neuralprophet) (2.1.2)\n",
      "Requirement already satisfied: click>=8.0 in /Users/vm/anaconda3/envs/py39/lib/python3.9/site-packages (from Flask<2.3.0,>=1.0.4->dash<3.0.0,>=2.2.0->plotly-resampler<0.9.0.0,>=0.8.3.1->neuralprophet) (8.1.3)\n",
      "Requirement already satisfied: pyasn1<0.6.0,>=0.4.6 in /Users/vm/anaconda3/envs/py39/lib/python3.9/site-packages (from pyasn1-modules>=0.2.1->google-auth<3,>=1.6.3->tensorboard<3.0.0,>=2.11.2->neuralprophet) (0.5.0)\n",
      "Requirement already satisfied: oauthlib>=3.0.0 in /Users/vm/anaconda3/envs/py39/lib/python3.9/site-packages (from requests-oauthlib>=0.7.0->google-auth-oauthlib<1.1,>=0.5->tensorboard<3.0.0,>=2.11.2->neuralprophet) (3.2.2)\n",
      "Requirement already satisfied: appnope in /Users/vm/anaconda3/envs/py39/lib/python3.9/site-packages (from ipykernel->jupyter-dash>=0.4.2->plotly-resampler<0.9.0.0,>=0.8.3.1->neuralprophet) (0.1.2)\n",
      "Requirement already satisfied: comm>=0.1.1 in /Users/vm/anaconda3/envs/py39/lib/python3.9/site-packages (from ipykernel->jupyter-dash>=0.4.2->plotly-resampler<0.9.0.0,>=0.8.3.1->neuralprophet) (0.1.2)\n",
      "Requirement already satisfied: debugpy>=1.0 in /Users/vm/anaconda3/envs/py39/lib/python3.9/site-packages (from ipykernel->jupyter-dash>=0.4.2->plotly-resampler<0.9.0.0,>=0.8.3.1->neuralprophet) (1.5.1)\n",
      "Requirement already satisfied: jupyter-client>=6.1.12 in /Users/vm/anaconda3/envs/py39/lib/python3.9/site-packages (from ipykernel->jupyter-dash>=0.4.2->plotly-resampler<0.9.0.0,>=0.8.3.1->neuralprophet) (8.1.0)\n",
      "Requirement already satisfied: matplotlib-inline>=0.1 in /Users/vm/anaconda3/envs/py39/lib/python3.9/site-packages (from ipykernel->jupyter-dash>=0.4.2->plotly-resampler<0.9.0.0,>=0.8.3.1->neuralprophet) (0.1.6)\n",
      "Requirement already satisfied: psutil in /Users/vm/anaconda3/envs/py39/lib/python3.9/site-packages (from ipykernel->jupyter-dash>=0.4.2->plotly-resampler<0.9.0.0,>=0.8.3.1->neuralprophet) (5.9.0)\n",
      "Requirement already satisfied: pyzmq>=17 in /Users/vm/anaconda3/envs/py39/lib/python3.9/site-packages (from ipykernel->jupyter-dash>=0.4.2->plotly-resampler<0.9.0.0,>=0.8.3.1->neuralprophet) (25.1.0)\n",
      "Requirement already satisfied: tornado>=6.1 in /Users/vm/anaconda3/envs/py39/lib/python3.9/site-packages (from ipykernel->jupyter-dash>=0.4.2->plotly-resampler<0.9.0.0,>=0.8.3.1->neuralprophet) (6.2)\n"
     ]
    },
    {
     "name": "stdout",
     "output_type": "stream",
     "text": [
      "Requirement already satisfied: backcall in /Users/vm/anaconda3/envs/py39/lib/python3.9/site-packages (from ipython->jupyter-dash>=0.4.2->plotly-resampler<0.9.0.0,>=0.8.3.1->neuralprophet) (0.2.0)\n",
      "Requirement already satisfied: decorator in /Users/vm/anaconda3/envs/py39/lib/python3.9/site-packages (from ipython->jupyter-dash>=0.4.2->plotly-resampler<0.9.0.0,>=0.8.3.1->neuralprophet) (5.1.1)\n",
      "Requirement already satisfied: jedi>=0.16 in /Users/vm/anaconda3/envs/py39/lib/python3.9/site-packages (from ipython->jupyter-dash>=0.4.2->plotly-resampler<0.9.0.0,>=0.8.3.1->neuralprophet) (0.18.1)\n",
      "Requirement already satisfied: pickleshare in /Users/vm/anaconda3/envs/py39/lib/python3.9/site-packages (from ipython->jupyter-dash>=0.4.2->plotly-resampler<0.9.0.0,>=0.8.3.1->neuralprophet) (0.7.5)\n",
      "Requirement already satisfied: prompt-toolkit!=3.0.37,<3.1.0,>=3.0.30 in /Users/vm/anaconda3/envs/py39/lib/python3.9/site-packages (from ipython->jupyter-dash>=0.4.2->plotly-resampler<0.9.0.0,>=0.8.3.1->neuralprophet) (3.0.36)\n",
      "Requirement already satisfied: pygments>=2.4.0 in /Users/vm/anaconda3/envs/py39/lib/python3.9/site-packages (from ipython->jupyter-dash>=0.4.2->plotly-resampler<0.9.0.0,>=0.8.3.1->neuralprophet) (2.15.1)\n",
      "Requirement already satisfied: stack-data in /Users/vm/anaconda3/envs/py39/lib/python3.9/site-packages (from ipython->jupyter-dash>=0.4.2->plotly-resampler<0.9.0.0,>=0.8.3.1->neuralprophet) (0.2.0)\n",
      "Requirement already satisfied: pexpect>4.3 in /Users/vm/anaconda3/envs/py39/lib/python3.9/site-packages (from ipython->jupyter-dash>=0.4.2->plotly-resampler<0.9.0.0,>=0.8.3.1->neuralprophet) (4.8.0)\n",
      "Requirement already satisfied: parso<0.9.0,>=0.8.0 in /Users/vm/anaconda3/envs/py39/lib/python3.9/site-packages (from jedi>=0.16->ipython->jupyter-dash>=0.4.2->plotly-resampler<0.9.0.0,>=0.8.3.1->neuralprophet) (0.8.3)\n",
      "Requirement already satisfied: ptyprocess>=0.5 in /Users/vm/anaconda3/envs/py39/lib/python3.9/site-packages (from pexpect>4.3->ipython->jupyter-dash>=0.4.2->plotly-resampler<0.9.0.0,>=0.8.3.1->neuralprophet) (0.7.0)\n",
      "Requirement already satisfied: wcwidth in /Users/vm/anaconda3/envs/py39/lib/python3.9/site-packages (from prompt-toolkit!=3.0.37,<3.1.0,>=3.0.30->ipython->jupyter-dash>=0.4.2->plotly-resampler<0.9.0.0,>=0.8.3.1->neuralprophet) (0.2.5)\n",
      "Requirement already satisfied: executing in /Users/vm/anaconda3/envs/py39/lib/python3.9/site-packages (from stack-data->ipython->jupyter-dash>=0.4.2->plotly-resampler<0.9.0.0,>=0.8.3.1->neuralprophet) (0.8.3)\n",
      "Requirement already satisfied: asttokens in /Users/vm/anaconda3/envs/py39/lib/python3.9/site-packages (from stack-data->ipython->jupyter-dash>=0.4.2->plotly-resampler<0.9.0.0,>=0.8.3.1->neuralprophet) (2.0.5)\n",
      "Requirement already satisfied: pure-eval in /Users/vm/anaconda3/envs/py39/lib/python3.9/site-packages (from stack-data->ipython->jupyter-dash>=0.4.2->plotly-resampler<0.9.0.0,>=0.8.3.1->neuralprophet) (0.2.2)\n"
     ]
    }
   ],
   "source": [
    "# much faster using the following code, but may not have the latest upgrades/bugfixes\n",
    "! pip install neuralprophet\n",
    "\n",
    "# if \"google.colab\" in str(get_ipython()):\n",
    "#     !pip install git+https://github.com/ourownstory/neural_prophet.git  # may take a while"
   ]
  },
  {
   "cell_type": "markdown",
   "metadata": {
    "id": "wJmkfRJ4Vm4h"
   },
   "source": [
    "In this notebook, we will follow NeuralProphet tutorial to introduce the two statistical techniques available in NeuralProphet: (1) quantile regression and (2) Conformal Prediction. These two modules are not mutually exclusive, you may apply both modules on top of any models.\n",
    "\n",
    "The quantile regression module allows the algorithm to learn only a certain quantile of output variables for each instance. As for the conformal prediction module, it adds a calibration process on top of the model to quantify uncertainties in data for both point estimators and prediction intervals.\n",
    "\n",
    "We will illustrate and further elaborate on both quantification modules using the hospital electric load dataset. The dataset has recorded the electricity consumption of a hospital in SF in 2015 by hour."
   ]
  },
  {
   "cell_type": "markdown",
   "metadata": {
    "id": "-hxKFgigTX3K"
   },
   "source": [
    "### Extract Data and Split Data into Train, Val, Cal, and Test\n",
    "\n",
    "\n",
    "**Extract Data From GitHub**"
   ]
  },
  {
   "cell_type": "code",
   "execution_count": 3,
   "metadata": {
    "colab": {
     "base_uri": "https://localhost:8080/",
     "height": 71
    },
    "id": "_TivcaPmTX3L",
    "outputId": "8aeceb5b-d8e7-4c72-a461-c9674368d4fd"
   },
   "outputs": [],
   "source": [
    "import numpy as np\n",
    "import pandas as pd\n",
    "from neuralprophet import NeuralProphet, uncertainty_evaluate, set_log_level, set_random_seed"
   ]
  },
  {
   "cell_type": "code",
   "execution_count": 4,
   "metadata": {
    "id": "V6Cm37idTX3L"
   },
   "outputs": [],
   "source": [
    "data_location = \"http://raw.githubusercontent.com/ourownstory/neuralprophet-data/main/datasets/\"\n",
    "df = pd.read_csv(data_location + \"energy/SF_hospital_load.csv\")"
   ]
  },
  {
   "cell_type": "code",
   "execution_count": 5,
   "metadata": {
    "colab": {
     "base_uri": "https://localhost:8080/",
     "height": 204
    },
    "id": "TvrgKVWIuxFJ",
    "outputId": "f85e837a-56a8-408c-a813-f45ee2a38dd0"
   },
   "outputs": [
    {
     "data": {
      "text/html": [
       "<div>\n",
       "<style scoped>\n",
       "    .dataframe tbody tr th:only-of-type {\n",
       "        vertical-align: middle;\n",
       "    }\n",
       "\n",
       "    .dataframe tbody tr th {\n",
       "        vertical-align: top;\n",
       "    }\n",
       "\n",
       "    .dataframe thead th {\n",
       "        text-align: right;\n",
       "    }\n",
       "</style>\n",
       "<table border=\"1\" class=\"dataframe\">\n",
       "  <thead>\n",
       "    <tr style=\"text-align: right;\">\n",
       "      <th></th>\n",
       "      <th>ds</th>\n",
       "      <th>y</th>\n",
       "    </tr>\n",
       "  </thead>\n",
       "  <tbody>\n",
       "    <tr>\n",
       "      <th>0</th>\n",
       "      <td>2015-01-01 01:00:00</td>\n",
       "      <td>778.007969</td>\n",
       "    </tr>\n",
       "    <tr>\n",
       "      <th>1</th>\n",
       "      <td>2015-01-01 02:00:00</td>\n",
       "      <td>776.241750</td>\n",
       "    </tr>\n",
       "    <tr>\n",
       "      <th>2</th>\n",
       "      <td>2015-01-01 03:00:00</td>\n",
       "      <td>779.357338</td>\n",
       "    </tr>\n",
       "    <tr>\n",
       "      <th>3</th>\n",
       "      <td>2015-01-01 04:00:00</td>\n",
       "      <td>778.737196</td>\n",
       "    </tr>\n",
       "    <tr>\n",
       "      <th>4</th>\n",
       "      <td>2015-01-01 05:00:00</td>\n",
       "      <td>787.835835</td>\n",
       "    </tr>\n",
       "  </tbody>\n",
       "</table>\n",
       "</div>"
      ],
      "text/plain": [
       "                    ds           y\n",
       "0  2015-01-01 01:00:00  778.007969\n",
       "1  2015-01-01 02:00:00  776.241750\n",
       "2  2015-01-01 03:00:00  779.357338\n",
       "3  2015-01-01 04:00:00  778.737196\n",
       "4  2015-01-01 05:00:00  787.835835"
      ]
     },
     "execution_count": 5,
     "metadata": {},
     "output_type": "execute_result"
    }
   ],
   "source": [
    "df.head(5)"
   ]
  },
  {
   "cell_type": "code",
   "execution_count": 6,
   "metadata": {
    "colab": {
     "base_uri": "https://localhost:8080/",
     "height": 204
    },
    "id": "NStMgAY2TX3M",
    "outputId": "f2ca1c41-f439-470a-e82e-f39e1be90061"
   },
   "outputs": [
    {
     "data": {
      "text/html": [
       "<div>\n",
       "<style scoped>\n",
       "    .dataframe tbody tr th:only-of-type {\n",
       "        vertical-align: middle;\n",
       "    }\n",
       "\n",
       "    .dataframe tbody tr th {\n",
       "        vertical-align: top;\n",
       "    }\n",
       "\n",
       "    .dataframe thead th {\n",
       "        text-align: right;\n",
       "    }\n",
       "</style>\n",
       "<table border=\"1\" class=\"dataframe\">\n",
       "  <thead>\n",
       "    <tr style=\"text-align: right;\">\n",
       "      <th></th>\n",
       "      <th>ds</th>\n",
       "      <th>y</th>\n",
       "    </tr>\n",
       "  </thead>\n",
       "  <tbody>\n",
       "    <tr>\n",
       "      <th>8755</th>\n",
       "      <td>2015-12-31 20:00:00</td>\n",
       "      <td>845.563081</td>\n",
       "    </tr>\n",
       "    <tr>\n",
       "      <th>8756</th>\n",
       "      <td>2015-12-31 21:00:00</td>\n",
       "      <td>827.530521</td>\n",
       "    </tr>\n",
       "    <tr>\n",
       "      <th>8757</th>\n",
       "      <td>2015-12-31 22:00:00</td>\n",
       "      <td>829.256300</td>\n",
       "    </tr>\n",
       "    <tr>\n",
       "      <th>8758</th>\n",
       "      <td>2015-12-31 23:00:00</td>\n",
       "      <td>813.937205</td>\n",
       "    </tr>\n",
       "    <tr>\n",
       "      <th>8759</th>\n",
       "      <td>2016-01-01 00:00:00</td>\n",
       "      <td>815.588584</td>\n",
       "    </tr>\n",
       "  </tbody>\n",
       "</table>\n",
       "</div>"
      ],
      "text/plain": [
       "                       ds           y\n",
       "8755  2015-12-31 20:00:00  845.563081\n",
       "8756  2015-12-31 21:00:00  827.530521\n",
       "8757  2015-12-31 22:00:00  829.256300\n",
       "8758  2015-12-31 23:00:00  813.937205\n",
       "8759  2016-01-01 00:00:00  815.588584"
      ]
     },
     "execution_count": 6,
     "metadata": {},
     "output_type": "execute_result"
    }
   ],
   "source": [
    "df.tail(5)"
   ]
  },
  {
   "cell_type": "markdown",
   "metadata": {
    "id": "36AFNZcPXsfx"
   },
   "source": [
    "## Data Splitting"
   ]
  },
  {
   "cell_type": "markdown",
   "metadata": {
    "id": "k75tCpHvX16G"
   },
   "source": [
    "In NeuralProphet, there is a data splitting function which divide a dataset input into two subsets. You can configure the function by indicating the time-series frequencies and splitting ratio.\n",
    "\n",
    "In our hospital electric load dataset, we will divide the original dataset into training and testing set with a train-test ratio of ."
   ]
  },
  {
   "cell_type": "code",
   "execution_count": 7,
   "metadata": {
    "colab": {
     "base_uri": "https://localhost:8080/"
    },
    "id": "ywFMurNxTX3N",
    "outputId": "234e0672-2432-4276-fd69-0e521d642a7a"
   },
   "outputs": [
    {
     "name": "stderr",
     "output_type": "stream",
     "text": [
      "INFO - (NP.df_utils._infer_frequency) - Major frequency H corresponds to 99.989% of the data.\n",
      "INFO - (NP.df_utils._infer_frequency) - Defined frequency is equal to major frequency - H\n",
      "INFO - (NP.df_utils.return_df_in_original_format) - Returning df with no ID column\n",
      "INFO - (NP.df_utils.return_df_in_original_format) - Returning df with no ID column\n"
     ]
    }
   ],
   "source": [
    "# Create NeuralProphet object\n",
    "m = NeuralProphet()\n",
    "\n",
    "# Data spliting function split one time-series dataframe into two\n",
    "# Configure the hourly frequency by assigning 'H' to parameter freq\n",
    "# Configure the splitting ratio with a value between 0 and 1 for valid_p\n",
    "train_df, test_df = m.split_df(df, freq=\"H\", valid_p=1.0 / 16)"
   ]
  },
  {
   "cell_type": "code",
   "execution_count": 8,
   "metadata": {
    "colab": {
     "base_uri": "https://localhost:8080/"
    },
    "id": "ipr-pLYlTX3O",
    "outputId": "98ee3560-5df4-4277-9db7-406948613a4b"
   },
   "outputs": [
    {
     "data": {
      "text/plain": [
       "((8213, 2), (547, 2))"
      ]
     },
     "execution_count": 8,
     "metadata": {},
     "output_type": "execute_result"
    }
   ],
   "source": [
    "train_df.shape, test_df.shape"
   ]
  },
  {
   "cell_type": "code",
   "execution_count": 9,
   "metadata": {
    "colab": {
     "base_uri": "https://localhost:8080/"
    },
    "id": "JmUjIue2YNRm",
    "outputId": "99abf741-d803-44f5-b5e6-374acf6714a7"
   },
   "outputs": [
    {
     "name": "stdout",
     "output_type": "stream",
     "text": [
      "Train set time range:        2015-01-01 01:00:00 - 2015-12-09 05:00:00\n",
      "Test set time range:         2015-12-09 06:00:00 - 2016-01-01 00:00:00\n"
     ]
    }
   ],
   "source": [
    "print(f\"Train set time range:        {train_df['ds'].min()} - {train_df['ds'].max()}\")\n",
    "print(f\"Test set time range:         {test_df['ds'].min()} - {test_df['ds'].max()}\")"
   ]
  },
  {
   "cell_type": "markdown",
   "metadata": {},
   "source": [
    "## Quantile Regression"
   ]
  },
  {
   "cell_type": "markdown",
   "metadata": {},
   "source": [
    "By the NeuralProphet forecasting default setting, you are only getting a single output as the point estimator for each instance. The point estimator is calculated based on a single 50th percentile regression. To generate a prediction interval, an NeuralProphet object needs a list of at least an upper and lower quantile pair as the parameter. However, you may create as many quantiles as you wish in a NeuralProphet model.\n",
    "\n",
    "Back to forecasting our hospital electric load dataset. Assuming we want the true value to be within the estimator’s prediction interval 90% of the time (i.e., 90% confidence level), we create a three-quantiles regression model that outputs the 5th, 50th and 95th percentile values respectively."
   ]
  },
  {
   "cell_type": "code",
   "execution_count": 10,
   "metadata": {},
   "outputs": [
    {
     "data": {
      "text/plain": [
       "[0.05, 0.95]"
      ]
     },
     "execution_count": 10,
     "metadata": {},
     "output_type": "execute_result"
    }
   ],
   "source": [
    "# NeuralProphet only accepts quantiles value in between 0 and 1\n",
    "# Parameter for quantile regression\n",
    "confidence_lv = 0.9\n",
    "quantile_list = [round(((1 - confidence_lv) / 2), 2), round((confidence_lv + (1 - confidence_lv) / 2), 2)]\n",
    "\n",
    "quantile_list"
   ]
  },
  {
   "cell_type": "code",
   "execution_count": 11,
   "metadata": {},
   "outputs": [],
   "source": [
    "# Create NeuralProphet object with list of quantile as parameter\n",
    "qr_model = NeuralProphet(quantiles=quantile_list)\n",
    "qr_model.set_plotting_backend(\"plotly-static\")"
   ]
  },
  {
   "cell_type": "markdown",
   "metadata": {},
   "source": [
    "Once the quantile regression module is added on a model, NeuralProphet uses the pinball loss (quantile loss) function to assess goodness-of-fit of the trained model. Similiar to how log-likelihood loss function is used for Gaussian linear regression.\n",
    "\n",
    "Instead of taking the absolute error in, pinball loss function has different error weightings for each different quantile. We usually take an upper quantile exceeding 50th percentile as the upper bound of prediction interval and another lower quantile below 50th percentile as the lower bound of interval. When the actual output lays outside the prediction interval, the loss function assigns a heavier weight for the absolute error and vice versa. We eventually minimise the loss function by adjusting the parameters of the quantile line iteratively.\n",
    "\n",
    "Let’s see how weighting differs between different lower quantiles (10th vs 25th percentile). Percentile indicates the probability of having the true value below the estimation value. Comparing to the 25th percentile, the 10th percentile has a smaller expected probability of having the true value below the line. When the actual lays outside the prediction interval (i.e., the actual value is smaller than the predicted one), it is more problematic for a 10th percentile to have such error, as it expects 90% of the true value to be above the line, as opposed to the 75% above the line for the 25th percentile."
   ]
  },
  {
   "cell_type": "code",
   "execution_count": 12,
   "metadata": {},
   "outputs": [
    {
     "name": "stderr",
     "output_type": "stream",
     "text": [
      "WARNING - (NP.forecaster.fit) - When Global modeling with local normalization, metrics are displayed in normalized scale.\n",
      "INFO - (NP.df_utils._infer_frequency) - Major frequency H corresponds to 99.989% of the data.\n",
      "INFO - (NP.df_utils._infer_frequency) - Defined frequency is equal to major frequency - H\n",
      "INFO - (NP.config.init_data_params) - Setting normalization to global as only one dataframe provided for training.\n",
      "INFO - (NP.utils.set_auto_seasonalities) - Disabling yearly seasonality. Run NeuralProphet with yearly_seasonality=True to override this.\n",
      "INFO - (NP.config.set_auto_batch_epoch) - Auto-set batch_size to 32\n",
      "INFO - (NP.config.set_auto_batch_epoch) - Auto-set epochs to 106\n",
      "WARNING - (py.warnings._showwarnmsg) - /Users/vm/anaconda3/envs/py39/lib/python3.9/site-packages/pytorch_lightning/trainer/setup.py:201: UserWarning: MPS available but not used. Set `accelerator` and `devices` using `Trainer(accelerator='mps', devices=1)`.\n",
      "  rank_zero_warn(\n",
      "\n"
     ]
    },
    {
     "data": {
      "application/vnd.jupyter.widget-view+json": {
       "model_id": "60097f14c2ce429585cf911a0b1b3fb0",
       "version_major": 2,
       "version_minor": 0
      },
      "text/plain": [
       "Finding best initial lr:   0%|          | 0/248 [00:00<?, ?it/s]"
      ]
     },
     "metadata": {},
     "output_type": "display_data"
    },
    {
     "data": {
      "application/vnd.jupyter.widget-view+json": {
       "model_id": "317c1bfedea7462d911a0fa959fe9e91",
       "version_major": 2,
       "version_minor": 0
      },
      "text/plain": [
       "Training: 0it [00:00, ?it/s]"
      ]
     },
     "metadata": {},
     "output_type": "display_data"
    },
    {
     "name": "stderr",
     "output_type": "stream",
     "text": [
      "INFO - (NP.df_utils._infer_frequency) - Major frequency H corresponds to 99.989% of the data.\n",
      "INFO - (NP.df_utils._infer_frequency) - Defined frequency is equal to major frequency - H\n",
      "INFO - (NP.df_utils.return_df_in_original_format) - Returning df with no ID column\n",
      "INFO - (NP.df_utils._infer_frequency) - Major frequency H corresponds to 99.231% of the data.\n",
      "INFO - (NP.df_utils._infer_frequency) - Defined frequency is equal to major frequency - H\n",
      "INFO - (NP.df_utils._infer_frequency) - Major frequency H corresponds to 99.231% of the data.\n",
      "INFO - (NP.df_utils._infer_frequency) - Defined frequency is equal to major frequency - H\n",
      "INFO - (NP.data.processing._handle_missing_data) - Dropped 30 rows at the end with NaNs in 'y' column.\n"
     ]
    },
    {
     "data": {
      "application/vnd.jupyter.widget-view+json": {
       "model_id": "db8c6eedf09541ee85417d4e823151f3",
       "version_major": 2,
       "version_minor": 0
      },
      "text/plain": [
       "Predicting: 274it [00:00, ?it/s]"
      ]
     },
     "metadata": {},
     "output_type": "display_data"
    },
    {
     "name": "stderr",
     "output_type": "stream",
     "text": [
      "INFO - (NP.df_utils.return_df_in_original_format) - Returning df with no ID column\n"
     ]
    }
   ],
   "source": [
    "# Fit the model with the observations\n",
    "metrics = qr_model.fit(df, freq=\"H\")\n",
    "\n",
    "# Create a new dataframe for the results\n",
    "# Including 100 historical values and 30 value points for the future\n",
    "future = qr_model.make_future_dataframe(df, periods=30, n_historic_predictions=100)\n",
    "\n",
    "# Perform prediction with the trained models\n",
    "forecast = qr_model.predict(df=future)"
   ]
  },
  {
   "cell_type": "markdown",
   "metadata": {},
   "source": [
    "Prediction made for hospital electric load is visualised below. yhat1 has shown the prediction made at the 50th percentile while the confidence interval has been shaped in light blue. The lower bound is the prediction result of the 10th quantile whereas the upper one is of the 90th."
   ]
  },
  {
   "cell_type": "code",
   "execution_count": 13,
   "metadata": {},
   "outputs": [
    {
     "data": {
      "image/svg+xml": [
       "<svg class=\"main-svg\" xmlns=\"http://www.w3.org/2000/svg\" xmlns:xlink=\"http://www.w3.org/1999/xlink\" width=\"700\" height=\"420\" style=\"\" viewBox=\"0 0 700 420\"><rect x=\"0\" y=\"0\" width=\"700\" height=\"420\" style=\"fill: rgb(255, 255, 255); fill-opacity: 1;\"/><defs id=\"defs-919701\"><g class=\"clips\"><clipPath id=\"clip919701xyplot\" class=\"plotclip\"><rect width=\"526\" height=\"263\"/></clipPath><clipPath class=\"axesclip\" id=\"clip919701x\"><rect x=\"52\" y=\"0\" width=\"526\" height=\"420\"/></clipPath><clipPath class=\"axesclip\" id=\"clip919701y\"><rect x=\"0\" y=\"24\" width=\"700\" height=\"263\"/></clipPath><clipPath class=\"axesclip\" id=\"clip919701xy\"><rect x=\"52\" y=\"24\" width=\"526\" height=\"263\"/></clipPath></g><g class=\"gradients\"/><g class=\"patterns\"/></defs><g class=\"bglayer\"/><g class=\"layer-below\"><g class=\"imagelayer\"/><g class=\"shapelayer\"/></g><g class=\"cartesianlayer\"><g class=\"subplot xy\"><g class=\"layer-subplot\"><g class=\"shapelayer\"/><g class=\"imagelayer\"/></g><g class=\"minor-gridlayer\"><g class=\"x\"/><g class=\"y\"/></g><g class=\"gridlayer\"><g class=\"x\"><path class=\"xgrid crisp\" transform=\"translate(92.17,0)\" d=\"M0,24v263\" style=\"stroke: rgb(235, 240, 248); stroke-opacity: 1; stroke-width: 1px;\"/><path class=\"xgrid crisp\" transform=\"translate(179.13,0)\" d=\"M0,24v263\" style=\"stroke: rgb(235, 240, 248); stroke-opacity: 1; stroke-width: 1px;\"/><path class=\"xgrid crisp\" transform=\"translate(266.09000000000003,0)\" d=\"M0,24v263\" style=\"stroke: rgb(235, 240, 248); stroke-opacity: 1; stroke-width: 1px;\"/><path class=\"xgrid crisp\" transform=\"translate(353.04,0)\" d=\"M0,24v263\" style=\"stroke: rgb(235, 240, 248); stroke-opacity: 1; stroke-width: 1px;\"/><path class=\"xgrid crisp\" transform=\"translate(440,0)\" d=\"M0,24v263\" style=\"stroke: rgb(235, 240, 248); stroke-opacity: 1; stroke-width: 1px;\"/><path class=\"xgrid crisp\" transform=\"translate(526.96,0)\" d=\"M0,24v263\" style=\"stroke: rgb(235, 240, 248); stroke-opacity: 1; stroke-width: 1px;\"/></g><g class=\"y\"><path class=\"ygrid crisp\" transform=\"translate(0,269.82)\" d=\"M52,0h526\" style=\"stroke: rgb(235, 240, 248); stroke-opacity: 1; stroke-width: 1px;\"/><path class=\"ygrid crisp\" transform=\"translate(0,208.07)\" d=\"M52,0h526\" style=\"stroke: rgb(235, 240, 248); stroke-opacity: 1; stroke-width: 1px;\"/><path class=\"ygrid crisp\" transform=\"translate(0,146.32)\" d=\"M52,0h526\" style=\"stroke: rgb(235, 240, 248); stroke-opacity: 1; stroke-width: 1px;\"/><path class=\"ygrid crisp\" transform=\"translate(0,84.57)\" d=\"M52,0h526\" style=\"stroke: rgb(235, 240, 248); stroke-opacity: 1; stroke-width: 1px;\"/></g></g><g class=\"zerolinelayer\"/><path class=\"xlines-below\"/><path class=\"ylines-below\"/><g class=\"overlines-below\"/><g class=\"xaxislayer-below\"/><g class=\"yaxislayer-below\"/><g class=\"overaxes-below\"/><g class=\"plot\" transform=\"translate(52,24)\" clip-path=\"url(#clip919701xyplot)\"><g class=\"scatterlayer mlayer\"><g class=\"trace scatter traced6883c\" style=\"stroke-miterlimit: 2; opacity: 1;\"><g class=\"fills\"/><g class=\"errorbars\"/><g class=\"lines\"><path class=\"js-line\" d=\"M29.3,137.75L32.92,148.52L36.55,154.83L40.17,157.6L43.79,158.31L47.42,157.99L51.04,156.49L54.66,150.56L58.29,133.76L65.53,70.42L69.16,47.52L72.78,39.49L76.4,38.75L80.03,38.94L83.65,41.25L87.27,45.78L90.9,46.84L94.52,42.61L98.14,41.96L101.77,54.49L105.39,78.4L112.63,124.47L116.26,139.62L119.88,150.14L123.5,156.16L127.13,158.62L130.75,159.01L134.37,158.35L138,156.53L141.62,150.29L145.24,133.21L152.49,69.45L156.11,46.42L159.74,38.36L163.36,37.68L166.98,38.03L170.61,40.6L174.23,45.53L177.85,47.12L181.48,43.56L185.1,43.73L188.72,57.23L192.35,82.27L199.59,131.06L203.22,147.8L206.84,160.05L210.46,167.95L214.09,172.41L217.71,174.92L221.33,176.49L224.96,176.99L228.58,173.14L232.2,158.51L239.45,99.73L243.07,79.2L246.7,73.59L250.32,75.31L253.94,77.98L257.57,82.78L261.19,89.8L264.81,93.33L268.43,91.54L272.06,93.28L275.68,108.14L279.3,134.29L286.55,184.52L290.17,201.55L293.8,213.8L297.42,221.39L301.04,225.22L304.67,226.79L308.29,227.09L311.91,226.01L315.54,220.25L319.16,203.41L326.41,139.32L330.03,115.72L333.65,106.79L337.28,104.95L340.9,103.86L344.52,104.69L348.15,107.6L351.77,106.88L355.39,100.73L359.02,98.04L362.64,108.42L366.26,130.09L369.89,153.26L373.51,171.44L377.13,184.13L380.76,192.16L384.38,195.66L388,195.58L391.63,193.42L395.25,190.22L398.87,185.87L402.5,177.12L406.12,157.55L409.74,125.02L413.37,88.91L416.99,63.5L420.61,53.09L424.23,50.09L427.86,48.17L431.48,48.51L435.1,51.24L438.73,50.66L442.35,44.96L445.97,43.01L449.6,54.4L453.22,77.35L460.47,121.96L464.09,136.61L467.71,146.76L471.34,152.54L474.96,154.87L478.58,155.23L482.21,154.63L485.83,152.92L489.45,146.85L493.08,129.97L496.7,100.11\" style=\"vector-effect: none; fill: none; stroke: rgb(45, 146, 255); stroke-opacity: 1; stroke-width: 2px; opacity: 1;\"/></g><g class=\"points\"/><g class=\"text\"/></g><g class=\"trace scatter trace449991\" style=\"stroke-miterlimit: 2;\"><g class=\"fills\"><g><path class=\"js-fill\" d=\"M29.3,125.5L32.92,128.62L36.55,130.3L40.17,135.22L43.79,135.82L47.42,132.91L51.04,133.9L54.66,132.13L58.29,111.24L65.53,38.25L69.16,22.09L72.78,17.79L76.4,15.94L80.03,16.57L83.65,20.43L87.27,23.31L90.9,23.16L94.52,21.51L98.14,18.6L101.77,18.16L105.39,32.27L112.63,104.41L116.26,124.84L119.88,127.95L123.5,129.61L127.13,134.5L130.75,135.08L134.37,132.14L138,133.11L141.62,131.33L145.24,110.46L152.49,37.58L156.11,21.53L159.74,17.38L163.36,15.73L166.98,16.63L170.61,20.83L174.23,24.11L177.85,24.43L181.48,23.35L185.1,21.08L188.72,21.38L192.35,36.31L199.59,110.37L203.22,131.89L206.84,136.17L210.46,139.1L214.09,145.33L217.71,147.32L221.33,145.85L224.96,148.34L228.58,148.13L232.2,128.86L239.45,59.23L243.07,44.81L246.7,42.26L250.32,42.18L253.94,44.59L257.57,50.23L261.19,54.88L264.81,56.47L268.43,56.54L272.06,55.3L275.68,56.48L279.3,72.13L286.55,147.12L290.17,168.84L293.8,173.11L297.42,175.82L301.04,181.62L304.67,182.96L308.29,180.64L311.91,182.05L315.54,180.55L319.16,159.77L326.41,86.51L330.03,69.98L333.65,65.15L337.28,62.61L340.9,62.42L344.52,65.32L348.15,67.11L351.77,65.73L355.39,62.75L359.02,58.4L362.64,56.42L366.26,68.9L373.51,137.57L377.13,156.18L380.76,157.41L384.38,157.16L388,160.11L391.63,158.74L395.25,153.83L398.87,152.83L402.5,149.09L406.12,126.26L413.37,49.52L416.99,31.59L420.61,25.58L424.23,22.1L427.86,21.2L431.48,23.63L435.1,25.18L438.73,23.81L442.35,21.06L445.97,17.16L449.6,15.86L453.22,29.21L460.47,100.18L464.09,120.2L467.71,122.98L471.34,124.42L474.96,129.18L478.58,129.7L482.21,126.77L485.83,127.81L489.45,126.15L493.08,105.43L496.7,67.07L496.7,145.35L493.08,166.48L489.45,178.72L485.83,186.36L482.21,189.5L478.58,188.16L474.96,186.98L471.34,187.56L467.71,183.81L460.47,157.4L456.84,144.7L449.6,114.28L445.97,102.38L442.35,100.17L438.73,101.9L435.1,100.71L431.48,98.51L427.86,99.11L424.23,101L420.61,104.88L416.99,118.68L413.37,145.81L409.74,176.46L406.12,199.03L402.5,212.7L398.87,221.75L395.25,226.27L391.63,226.25L388,226.32L384.38,228.07L380.76,225.4L373.51,200.77L369.89,188.75L362.64,159.2L359.02,147.46L355.39,145.2L351.77,146.67L348.15,145L344.52,142.1L340.9,141.76L337.28,142.47L333.65,144.92L330.03,157.06L326.41,182.29L322.78,210.8L319.16,231L315.54,242.08L311.91,248.33L308.29,249.85L304.67,246.65L301.04,243.37L297.42,241.64L293.8,235.34L286.55,203.16L282.93,187.28L275.68,149.89L272.06,134.24L268.43,128.12L264.81,125.8L261.19,120.42L257.57,113.93L253.94,110.15L250.32,107.57L246.7,106.94L243.07,116.19L239.45,138.76L235.83,164.85L232.2,182.89L228.58,192.09L224.96,196.74L221.33,196.94L217.71,192.72L214.09,188.73L210.46,186.57L206.84,180.16L199.59,148.62L195.97,133.48L188.72,98.37L185.1,84.23L181.48,79.84L177.85,79.45L174.23,76.19L170.61,71.98L166.98,70.62L163.36,70.58L159.74,72.58L156.11,84.53L152.49,109.84L148.87,138.7L145.24,159.51L141.62,171.45L138,178.79L134.37,181.62L130.75,179.94L127.13,178.37L123.5,178.53L119.88,174.28L112.63,146.63L109.01,133.17L101.77,100.91L98.14,87.9L94.52,84.47L90.9,84.84L87.27,82.16L83.65,78.36L80.03,77.23L76.4,77.26L72.78,79.17L69.16,90.89L65.53,115.84L61.91,144.22L58.29,164.45L54.66,175.71L51.04,182.3L47.42,184.33L43.79,181.8L40.17,179.36L36.55,178.62L32.92,173.49L29.3,160.21Z\" style=\"fill: rgb(45, 146, 255); fill-opacity: 0.2; stroke-width: 0;\"/></g></g><g class=\"errorbars\"/><g class=\"lines\"><path class=\"js-line\" d=\"M29.3,160.21L32.92,173.49L36.55,178.62L40.17,179.36L43.79,181.8L47.42,184.33L51.04,182.3L54.66,175.71L58.29,164.45L61.91,144.22L65.53,115.84L69.16,90.89L72.78,79.17L76.4,77.26L80.03,77.23L83.65,78.36L87.27,82.16L90.9,84.84L94.52,84.47L98.14,87.9L101.77,100.91L109.01,133.17L112.63,146.63L119.88,174.28L123.5,178.53L127.13,178.37L130.75,179.94L134.37,181.62L138,178.79L141.62,171.45L145.24,159.51L148.87,138.7L152.49,109.84L156.11,84.53L159.74,72.58L163.36,70.58L166.98,70.62L170.61,71.98L174.23,76.19L177.85,79.45L181.48,79.84L185.1,84.23L188.72,98.37L195.97,133.48L199.59,148.62L206.84,180.16L210.46,186.57L214.09,188.73L217.71,192.72L221.33,196.94L224.96,196.74L228.58,192.09L232.2,182.89L235.83,164.85L239.45,138.76L243.07,116.19L246.7,106.94L250.32,107.57L253.94,110.15L257.57,113.93L261.19,120.42L264.81,125.8L268.43,128.12L272.06,134.24L275.68,149.89L282.93,187.28L286.55,203.16L293.8,235.34L297.42,241.64L301.04,243.37L304.67,246.65L308.29,249.85L311.91,248.33L315.54,242.08L319.16,231L322.78,210.8L326.41,182.29L330.03,157.06L333.65,144.92L337.28,142.47L340.9,141.76L344.52,142.1L348.15,145L351.77,146.67L355.39,145.2L359.02,147.46L362.64,159.2L369.89,188.75L373.51,200.77L380.76,225.4L384.38,228.07L388,226.32L391.63,226.25L395.25,226.27L398.87,221.75L402.5,212.7L406.12,199.03L409.74,176.46L413.37,145.81L416.99,118.68L420.61,104.88L424.23,101L427.86,99.11L431.48,98.51L435.1,100.71L438.73,101.9L442.35,100.17L445.97,102.38L449.6,114.28L456.84,144.7L460.47,157.4L467.71,183.81L471.34,187.56L474.96,186.98L478.58,188.16L482.21,189.5L485.83,186.36L489.45,178.72L493.08,166.48L496.7,145.35\" style=\"vector-effect: none; fill: none; stroke: rgb(45, 146, 255); stroke-opacity: 0.2; stroke-width: 1px; opacity: 1;\"/></g><g class=\"points\"/><g class=\"text\"/></g><g class=\"trace scatter trace30d302\" style=\"stroke-miterlimit: 2;\"><g class=\"fills\"/><g class=\"errorbars\"/><g class=\"lines\"><path class=\"js-line\" d=\"M29.3,125.5L32.92,128.62L36.55,130.3L40.17,135.22L43.79,135.82L47.42,132.91L51.04,133.9L54.66,132.13L58.29,111.24L65.53,38.25L69.16,22.09L72.78,17.79L76.4,15.94L80.03,16.57L83.65,20.43L87.27,23.31L90.9,23.16L94.52,21.51L98.14,18.6L101.77,18.16L105.39,32.27L112.63,104.41L116.26,124.84L119.88,127.95L123.5,129.61L127.13,134.5L130.75,135.08L134.37,132.14L138,133.11L141.62,131.33L145.24,110.46L152.49,37.58L156.11,21.53L159.74,17.38L163.36,15.73L166.98,16.63L170.61,20.83L174.23,24.11L177.85,24.43L181.48,23.35L185.1,21.08L188.72,21.38L192.35,36.31L199.59,110.37L203.22,131.89L206.84,136.17L210.46,139.1L214.09,145.33L217.71,147.32L221.33,145.85L224.96,148.34L228.58,148.13L232.2,128.86L239.45,59.23L243.07,44.81L246.7,42.26L250.32,42.18L253.94,44.59L257.57,50.23L261.19,54.88L264.81,56.47L268.43,56.54L272.06,55.3L275.68,56.48L279.3,72.13L286.55,147.12L290.17,168.84L293.8,173.11L297.42,175.82L301.04,181.62L304.67,182.96L308.29,180.64L311.91,182.05L315.54,180.55L319.16,159.77L326.41,86.51L330.03,69.98L333.65,65.15L337.28,62.61L340.9,62.42L344.52,65.32L348.15,67.11L351.77,65.73L355.39,62.75L359.02,58.4L362.64,56.42L366.26,68.9L373.51,137.57L377.13,156.18L380.76,157.41L384.38,157.16L388,160.11L391.63,158.74L395.25,153.83L398.87,152.83L402.5,149.09L406.12,126.26L413.37,49.52L416.99,31.59L420.61,25.58L424.23,22.1L427.86,21.2L431.48,23.63L435.1,25.18L438.73,23.81L442.35,21.06L445.97,17.16L449.6,15.86L453.22,29.21L460.47,100.18L464.09,120.2L467.71,122.98L471.34,124.42L474.96,129.18L478.58,129.7L482.21,126.77L485.83,127.81L489.45,126.15L493.08,105.43L496.7,67.07\" style=\"vector-effect: none; fill: none; stroke: rgb(45, 146, 255); stroke-opacity: 0.2; stroke-width: 1px; opacity: 1;\"/></g><g class=\"points\"/><g class=\"text\"/></g><g class=\"trace scatter tracee2f38a\" style=\"stroke-miterlimit: 2; opacity: 1;\"><g class=\"fills\"/><g class=\"errorbars\"/><g class=\"lines\"/><g class=\"points\"><path class=\"point\" transform=\"translate(29.3,145.2)\" d=\"M2,0A2,2 0 1,1 0,-2A2,2 0 0,1 2,0Z\" style=\"opacity: 1; stroke-width: 0px; fill: rgb(0, 0, 0); fill-opacity: 1;\"/><path class=\"point\" transform=\"translate(32.92,157.76)\" d=\"M2,0A2,2 0 1,1 0,-2A2,2 0 0,1 2,0Z\" style=\"opacity: 1; stroke-width: 0px; fill: rgb(0, 0, 0); fill-opacity: 1;\"/><path class=\"point\" transform=\"translate(36.55,181.14)\" d=\"M2,0A2,2 0 1,1 0,-2A2,2 0 0,1 2,0Z\" style=\"opacity: 1; stroke-width: 0px; fill: rgb(0, 0, 0); fill-opacity: 1;\"/><path class=\"point\" transform=\"translate(40.17,180.69)\" d=\"M2,0A2,2 0 1,1 0,-2A2,2 0 0,1 2,0Z\" style=\"opacity: 1; stroke-width: 0px; fill: rgb(0, 0, 0); fill-opacity: 1;\"/><path class=\"point\" transform=\"translate(43.79,184.05)\" d=\"M2,0A2,2 0 1,1 0,-2A2,2 0 0,1 2,0Z\" style=\"opacity: 1; stroke-width: 0px; fill: rgb(0, 0, 0); fill-opacity: 1;\"/><path class=\"point\" transform=\"translate(47.42,185.58)\" d=\"M2,0A2,2 0 1,1 0,-2A2,2 0 0,1 2,0Z\" style=\"opacity: 1; stroke-width: 0px; fill: rgb(0, 0, 0); fill-opacity: 1;\"/><path class=\"point\" transform=\"translate(51.04,184.97)\" d=\"M2,0A2,2 0 1,1 0,-2A2,2 0 0,1 2,0Z\" style=\"opacity: 1; stroke-width: 0px; fill: rgb(0, 0, 0); fill-opacity: 1;\"/><path class=\"point\" transform=\"translate(54.66,187.05)\" d=\"M2,0A2,2 0 1,1 0,-2A2,2 0 0,1 2,0Z\" style=\"opacity: 1; stroke-width: 0px; fill: rgb(0, 0, 0); fill-opacity: 1;\"/><path class=\"point\" transform=\"translate(58.29,158.35)\" d=\"M2,0A2,2 0 1,1 0,-2A2,2 0 0,1 2,0Z\" style=\"opacity: 1; stroke-width: 0px; fill: rgb(0, 0, 0); fill-opacity: 1;\"/><path class=\"point\" transform=\"translate(61.91,157.88)\" d=\"M2,0A2,2 0 1,1 0,-2A2,2 0 0,1 2,0Z\" style=\"opacity: 1; stroke-width: 0px; fill: rgb(0, 0, 0); fill-opacity: 1;\"/><path class=\"point\" transform=\"translate(65.53,88.61)\" d=\"M2,0A2,2 0 1,1 0,-2A2,2 0 0,1 2,0Z\" style=\"opacity: 1; stroke-width: 0px; fill: rgb(0, 0, 0); fill-opacity: 1;\"/><path class=\"point\" transform=\"translate(69.16,52.2)\" d=\"M2,0A2,2 0 1,1 0,-2A2,2 0 0,1 2,0Z\" style=\"opacity: 1; stroke-width: 0px; fill: rgb(0, 0, 0); fill-opacity: 1;\"/><path class=\"point\" transform=\"translate(72.78,41.54)\" d=\"M2,0A2,2 0 1,1 0,-2A2,2 0 0,1 2,0Z\" style=\"opacity: 1; stroke-width: 0px; fill: rgb(0, 0, 0); fill-opacity: 1;\"/><path class=\"point\" transform=\"translate(76.4,27.51)\" d=\"M2,0A2,2 0 1,1 0,-2A2,2 0 0,1 2,0Z\" style=\"opacity: 1; stroke-width: 0px; fill: rgb(0, 0, 0); fill-opacity: 1;\"/><path class=\"point\" transform=\"translate(80.03,20.14)\" d=\"M2,0A2,2 0 1,1 0,-2A2,2 0 0,1 2,0Z\" style=\"opacity: 1; stroke-width: 0px; fill: rgb(0, 0, 0); fill-opacity: 1;\"/><path class=\"point\" transform=\"translate(83.65,20.6)\" d=\"M2,0A2,2 0 1,1 0,-2A2,2 0 0,1 2,0Z\" style=\"opacity: 1; stroke-width: 0px; fill: rgb(0, 0, 0); fill-opacity: 1;\"/><path class=\"point\" transform=\"translate(87.27,34.37)\" d=\"M2,0A2,2 0 1,1 0,-2A2,2 0 0,1 2,0Z\" style=\"opacity: 1; stroke-width: 0px; fill: rgb(0, 0, 0); fill-opacity: 1;\"/><path class=\"point\" transform=\"translate(90.9,23.05)\" d=\"M2,0A2,2 0 1,1 0,-2A2,2 0 0,1 2,0Z\" style=\"opacity: 1; stroke-width: 0px; fill: rgb(0, 0, 0); fill-opacity: 1;\"/><path class=\"point\" transform=\"translate(94.52,24.02)\" d=\"M2,0A2,2 0 1,1 0,-2A2,2 0 0,1 2,0Z\" style=\"opacity: 1; stroke-width: 0px; fill: rgb(0, 0, 0); fill-opacity: 1;\"/><path class=\"point\" transform=\"translate(98.14,25.32)\" d=\"M2,0A2,2 0 1,1 0,-2A2,2 0 0,1 2,0Z\" style=\"opacity: 1; stroke-width: 0px; fill: rgb(0, 0, 0); fill-opacity: 1;\"/><path class=\"point\" transform=\"translate(101.77,20.98)\" d=\"M2,0A2,2 0 1,1 0,-2A2,2 0 0,1 2,0Z\" style=\"opacity: 1; stroke-width: 0px; fill: rgb(0, 0, 0); fill-opacity: 1;\"/><path class=\"point\" transform=\"translate(105.39,16.15)\" d=\"M2,0A2,2 0 1,1 0,-2A2,2 0 0,1 2,0Z\" style=\"opacity: 1; stroke-width: 0px; fill: rgb(0, 0, 0); fill-opacity: 1;\"/><path class=\"point\" transform=\"translate(109.01,97.96)\" d=\"M2,0A2,2 0 1,1 0,-2A2,2 0 0,1 2,0Z\" style=\"opacity: 1; stroke-width: 0px; fill: rgb(0, 0, 0); fill-opacity: 1;\"/><path class=\"point\" transform=\"translate(112.63,100.1)\" d=\"M2,0A2,2 0 1,1 0,-2A2,2 0 0,1 2,0Z\" style=\"opacity: 1; stroke-width: 0px; fill: rgb(0, 0, 0); fill-opacity: 1;\"/><path class=\"point\" transform=\"translate(116.26,144.28)\" d=\"M2,0A2,2 0 1,1 0,-2A2,2 0 0,1 2,0Z\" style=\"opacity: 1; stroke-width: 0px; fill: rgb(0, 0, 0); fill-opacity: 1;\"/><path class=\"point\" transform=\"translate(119.88,158.83)\" d=\"M2,0A2,2 0 1,1 0,-2A2,2 0 0,1 2,0Z\" style=\"opacity: 1; stroke-width: 0px; fill: rgb(0, 0, 0); fill-opacity: 1;\"/><path class=\"point\" transform=\"translate(123.5,177.77)\" d=\"M2,0A2,2 0 1,1 0,-2A2,2 0 0,1 2,0Z\" style=\"opacity: 1; stroke-width: 0px; fill: rgb(0, 0, 0); fill-opacity: 1;\"/><path class=\"point\" transform=\"translate(127.13,179.09)\" d=\"M2,0A2,2 0 1,1 0,-2A2,2 0 0,1 2,0Z\" style=\"opacity: 1; stroke-width: 0px; fill: rgb(0, 0, 0); fill-opacity: 1;\"/><path class=\"point\" transform=\"translate(130.75,184.09)\" d=\"M2,0A2,2 0 1,1 0,-2A2,2 0 0,1 2,0Z\" style=\"opacity: 1; stroke-width: 0px; fill: rgb(0, 0, 0); fill-opacity: 1;\"/><path class=\"point\" transform=\"translate(134.37,184.15)\" d=\"M2,0A2,2 0 1,1 0,-2A2,2 0 0,1 2,0Z\" style=\"opacity: 1; stroke-width: 0px; fill: rgb(0, 0, 0); fill-opacity: 1;\"/><path class=\"point\" transform=\"translate(138,185)\" d=\"M2,0A2,2 0 1,1 0,-2A2,2 0 0,1 2,0Z\" style=\"opacity: 1; stroke-width: 0px; fill: rgb(0, 0, 0); fill-opacity: 1;\"/><path class=\"point\" transform=\"translate(141.62,186.53)\" d=\"M2,0A2,2 0 1,1 0,-2A2,2 0 0,1 2,0Z\" style=\"opacity: 1; stroke-width: 0px; fill: rgb(0, 0, 0); fill-opacity: 1;\"/><path class=\"point\" transform=\"translate(145.24,158.06)\" d=\"M2,0A2,2 0 1,1 0,-2A2,2 0 0,1 2,0Z\" style=\"opacity: 1; stroke-width: 0px; fill: rgb(0, 0, 0); fill-opacity: 1;\"/><path class=\"point\" transform=\"translate(148.87,157.31)\" d=\"M2,0A2,2 0 1,1 0,-2A2,2 0 0,1 2,0Z\" style=\"opacity: 1; stroke-width: 0px; fill: rgb(0, 0, 0); fill-opacity: 1;\"/><path class=\"point\" transform=\"translate(152.49,86.78)\" d=\"M2,0A2,2 0 1,1 0,-2A2,2 0 0,1 2,0Z\" style=\"opacity: 1; stroke-width: 0px; fill: rgb(0, 0, 0); fill-opacity: 1;\"/><path class=\"point\" transform=\"translate(156.11,52.65)\" d=\"M2,0A2,2 0 1,1 0,-2A2,2 0 0,1 2,0Z\" style=\"opacity: 1; stroke-width: 0px; fill: rgb(0, 0, 0); fill-opacity: 1;\"/><path class=\"point\" transform=\"translate(159.74,40.28)\" d=\"M2,0A2,2 0 1,1 0,-2A2,2 0 0,1 2,0Z\" style=\"opacity: 1; stroke-width: 0px; fill: rgb(0, 0, 0); fill-opacity: 1;\"/><path class=\"point\" transform=\"translate(163.36,29.01)\" d=\"M2,0A2,2 0 1,1 0,-2A2,2 0 0,1 2,0Z\" style=\"opacity: 1; stroke-width: 0px; fill: rgb(0, 0, 0); fill-opacity: 1;\"/><path class=\"point\" transform=\"translate(166.98,24.85)\" d=\"M2,0A2,2 0 1,1 0,-2A2,2 0 0,1 2,0Z\" style=\"opacity: 1; stroke-width: 0px; fill: rgb(0, 0, 0); fill-opacity: 1;\"/><path class=\"point\" transform=\"translate(170.61,23.13)\" d=\"M2,0A2,2 0 1,1 0,-2A2,2 0 0,1 2,0Z\" style=\"opacity: 1; stroke-width: 0px; fill: rgb(0, 0, 0); fill-opacity: 1;\"/><path class=\"point\" transform=\"translate(174.23,31.51)\" d=\"M2,0A2,2 0 1,1 0,-2A2,2 0 0,1 2,0Z\" style=\"opacity: 1; stroke-width: 0px; fill: rgb(0, 0, 0); fill-opacity: 1;\"/><path class=\"point\" transform=\"translate(177.85,19.01)\" d=\"M2,0A2,2 0 1,1 0,-2A2,2 0 0,1 2,0Z\" style=\"opacity: 1; stroke-width: 0px; fill: rgb(0, 0, 0); fill-opacity: 1;\"/><path class=\"point\" transform=\"translate(181.48,23.66)\" d=\"M2,0A2,2 0 1,1 0,-2A2,2 0 0,1 2,0Z\" style=\"opacity: 1; stroke-width: 0px; fill: rgb(0, 0, 0); fill-opacity: 1;\"/><path class=\"point\" transform=\"translate(185.1,27.75)\" d=\"M2,0A2,2 0 1,1 0,-2A2,2 0 0,1 2,0Z\" style=\"opacity: 1; stroke-width: 0px; fill: rgb(0, 0, 0); fill-opacity: 1;\"/><path class=\"point\" transform=\"translate(188.72,22.49)\" d=\"M2,0A2,2 0 1,1 0,-2A2,2 0 0,1 2,0Z\" style=\"opacity: 1; stroke-width: 0px; fill: rgb(0, 0, 0); fill-opacity: 1;\"/><path class=\"point\" transform=\"translate(192.35,16.26)\" d=\"M2,0A2,2 0 1,1 0,-2A2,2 0 0,1 2,0Z\" style=\"opacity: 1; stroke-width: 0px; fill: rgb(0, 0, 0); fill-opacity: 1;\"/><path class=\"point\" transform=\"translate(195.97,102.32)\" d=\"M2,0A2,2 0 1,1 0,-2A2,2 0 0,1 2,0Z\" style=\"opacity: 1; stroke-width: 0px; fill: rgb(0, 0, 0); fill-opacity: 1;\"/><path class=\"point\" transform=\"translate(199.59,105.05)\" d=\"M2,0A2,2 0 1,1 0,-2A2,2 0 0,1 2,0Z\" style=\"opacity: 1; stroke-width: 0px; fill: rgb(0, 0, 0); fill-opacity: 1;\"/><path class=\"point\" transform=\"translate(203.22,146.74)\" d=\"M2,0A2,2 0 1,1 0,-2A2,2 0 0,1 2,0Z\" style=\"opacity: 1; stroke-width: 0px; fill: rgb(0, 0, 0); fill-opacity: 1;\"/><path class=\"point\" transform=\"translate(206.84,159.4)\" d=\"M2,0A2,2 0 1,1 0,-2A2,2 0 0,1 2,0Z\" style=\"opacity: 1; stroke-width: 0px; fill: rgb(0, 0, 0); fill-opacity: 1;\"/><path class=\"point\" transform=\"translate(210.46,180.66)\" d=\"M2,0A2,2 0 1,1 0,-2A2,2 0 0,1 2,0Z\" style=\"opacity: 1; stroke-width: 0px; fill: rgb(0, 0, 0); fill-opacity: 1;\"/><path class=\"point\" transform=\"translate(214.09,180.48)\" d=\"M2,0A2,2 0 1,1 0,-2A2,2 0 0,1 2,0Z\" style=\"opacity: 1; stroke-width: 0px; fill: rgb(0, 0, 0); fill-opacity: 1;\"/><path class=\"point\" transform=\"translate(217.71,184.89)\" d=\"M2,0A2,2 0 1,1 0,-2A2,2 0 0,1 2,0Z\" style=\"opacity: 1; stroke-width: 0px; fill: rgb(0, 0, 0); fill-opacity: 1;\"/><path class=\"point\" transform=\"translate(221.33,184.01)\" d=\"M2,0A2,2 0 1,1 0,-2A2,2 0 0,1 2,0Z\" style=\"opacity: 1; stroke-width: 0px; fill: rgb(0, 0, 0); fill-opacity: 1;\"/><path class=\"point\" transform=\"translate(224.96,186.4)\" d=\"M2,0A2,2 0 1,1 0,-2A2,2 0 0,1 2,0Z\" style=\"opacity: 1; stroke-width: 0px; fill: rgb(0, 0, 0); fill-opacity: 1;\"/><path class=\"point\" transform=\"translate(228.58,186.75)\" d=\"M2,0A2,2 0 1,1 0,-2A2,2 0 0,1 2,0Z\" style=\"opacity: 1; stroke-width: 0px; fill: rgb(0, 0, 0); fill-opacity: 1;\"/><path class=\"point\" transform=\"translate(232.2,182.22)\" d=\"M2,0A2,2 0 1,1 0,-2A2,2 0 0,1 2,0Z\" style=\"opacity: 1; stroke-width: 0px; fill: rgb(0, 0, 0); fill-opacity: 1;\"/><path class=\"point\" transform=\"translate(235.83,183.94)\" d=\"M2,0A2,2 0 1,1 0,-2A2,2 0 0,1 2,0Z\" style=\"opacity: 1; stroke-width: 0px; fill: rgb(0, 0, 0); fill-opacity: 1;\"/><path class=\"point\" transform=\"translate(239.45,162.45)\" d=\"M2,0A2,2 0 1,1 0,-2A2,2 0 0,1 2,0Z\" style=\"opacity: 1; stroke-width: 0px; fill: rgb(0, 0, 0); fill-opacity: 1;\"/><path class=\"point\" transform=\"translate(243.07,128.44)\" d=\"M2,0A2,2 0 1,1 0,-2A2,2 0 0,1 2,0Z\" style=\"opacity: 1; stroke-width: 0px; fill: rgb(0, 0, 0); fill-opacity: 1;\"/><path class=\"point\" transform=\"translate(246.7,124.08)\" d=\"M2,0A2,2 0 1,1 0,-2A2,2 0 0,1 2,0Z\" style=\"opacity: 1; stroke-width: 0px; fill: rgb(0, 0, 0); fill-opacity: 1;\"/><path class=\"point\" transform=\"translate(250.32,88.85)\" d=\"M2,0A2,2 0 1,1 0,-2A2,2 0 0,1 2,0Z\" style=\"opacity: 1; stroke-width: 0px; fill: rgb(0, 0, 0); fill-opacity: 1;\"/><path class=\"point\" transform=\"translate(253.94,84.03)\" d=\"M2,0A2,2 0 1,1 0,-2A2,2 0 0,1 2,0Z\" style=\"opacity: 1; stroke-width: 0px; fill: rgb(0, 0, 0); fill-opacity: 1;\"/><path class=\"point\" transform=\"translate(257.57,82.36)\" d=\"M2,0A2,2 0 1,1 0,-2A2,2 0 0,1 2,0Z\" style=\"opacity: 1; stroke-width: 0px; fill: rgb(0, 0, 0); fill-opacity: 1;\"/><path class=\"point\" transform=\"translate(261.19,94.3)\" d=\"M2,0A2,2 0 1,1 0,-2A2,2 0 0,1 2,0Z\" style=\"opacity: 1; stroke-width: 0px; fill: rgb(0, 0, 0); fill-opacity: 1;\"/><path class=\"point\" transform=\"translate(264.81,95.7)\" d=\"M2,0A2,2 0 1,1 0,-2A2,2 0 0,1 2,0Z\" style=\"opacity: 1; stroke-width: 0px; fill: rgb(0, 0, 0); fill-opacity: 1;\"/><path class=\"point\" transform=\"translate(268.43,95.21)\" d=\"M2,0A2,2 0 1,1 0,-2A2,2 0 0,1 2,0Z\" style=\"opacity: 1; stroke-width: 0px; fill: rgb(0, 0, 0); fill-opacity: 1;\"/><path class=\"point\" transform=\"translate(272.06,119.29)\" d=\"M2,0A2,2 0 1,1 0,-2A2,2 0 0,1 2,0Z\" style=\"opacity: 1; stroke-width: 0px; fill: rgb(0, 0, 0); fill-opacity: 1;\"/><path class=\"point\" transform=\"translate(275.68,116.4)\" d=\"M2,0A2,2 0 1,1 0,-2A2,2 0 0,1 2,0Z\" style=\"opacity: 1; stroke-width: 0px; fill: rgb(0, 0, 0); fill-opacity: 1;\"/><path class=\"point\" transform=\"translate(279.3,126.09)\" d=\"M2,0A2,2 0 1,1 0,-2A2,2 0 0,1 2,0Z\" style=\"opacity: 1; stroke-width: 0px; fill: rgb(0, 0, 0); fill-opacity: 1;\"/><path class=\"point\" transform=\"translate(282.93,138.75)\" d=\"M2,0A2,2 0 1,1 0,-2A2,2 0 0,1 2,0Z\" style=\"opacity: 1; stroke-width: 0px; fill: rgb(0, 0, 0); fill-opacity: 1;\"/><path class=\"point\" transform=\"translate(286.55,140.1)\" d=\"M2,0A2,2 0 1,1 0,-2A2,2 0 0,1 2,0Z\" style=\"opacity: 1; stroke-width: 0px; fill: rgb(0, 0, 0); fill-opacity: 1;\"/><path class=\"point\" transform=\"translate(290.17,174.77)\" d=\"M2,0A2,2 0 1,1 0,-2A2,2 0 0,1 2,0Z\" style=\"opacity: 1; stroke-width: 0px; fill: rgb(0, 0, 0); fill-opacity: 1;\"/><path class=\"point\" transform=\"translate(293.8,175.94)\" d=\"M2,0A2,2 0 1,1 0,-2A2,2 0 0,1 2,0Z\" style=\"opacity: 1; stroke-width: 0px; fill: rgb(0, 0, 0); fill-opacity: 1;\"/><path class=\"point\" transform=\"translate(297.42,179.08)\" d=\"M2,0A2,2 0 1,1 0,-2A2,2 0 0,1 2,0Z\" style=\"opacity: 1; stroke-width: 0px; fill: rgb(0, 0, 0); fill-opacity: 1;\"/><path class=\"point\" transform=\"translate(301.04,178.82)\" d=\"M2,0A2,2 0 1,1 0,-2A2,2 0 0,1 2,0Z\" style=\"opacity: 1; stroke-width: 0px; fill: rgb(0, 0, 0); fill-opacity: 1;\"/><path class=\"point\" transform=\"translate(304.67,186.55)\" d=\"M2,0A2,2 0 1,1 0,-2A2,2 0 0,1 2,0Z\" style=\"opacity: 1; stroke-width: 0px; fill: rgb(0, 0, 0); fill-opacity: 1;\"/><path class=\"point\" transform=\"translate(308.29,187.46)\" d=\"M2,0A2,2 0 1,1 0,-2A2,2 0 0,1 2,0Z\" style=\"opacity: 1; stroke-width: 0px; fill: rgb(0, 0, 0); fill-opacity: 1;\"/><path class=\"point\" transform=\"translate(311.91,188.15)\" d=\"M2,0A2,2 0 1,1 0,-2A2,2 0 0,1 2,0Z\" style=\"opacity: 1; stroke-width: 0px; fill: rgb(0, 0, 0); fill-opacity: 1;\"/><path class=\"point\" transform=\"translate(315.54,187.91)\" d=\"M2,0A2,2 0 1,1 0,-2A2,2 0 0,1 2,0Z\" style=\"opacity: 1; stroke-width: 0px; fill: rgb(0, 0, 0); fill-opacity: 1;\"/><path class=\"point\" transform=\"translate(319.16,184.91)\" d=\"M2,0A2,2 0 1,1 0,-2A2,2 0 0,1 2,0Z\" style=\"opacity: 1; stroke-width: 0px; fill: rgb(0, 0, 0); fill-opacity: 1;\"/><path class=\"point\" transform=\"translate(322.78,185.87)\" d=\"M2,0A2,2 0 1,1 0,-2A2,2 0 0,1 2,0Z\" style=\"opacity: 1; stroke-width: 0px; fill: rgb(0, 0, 0); fill-opacity: 1;\"/><path class=\"point\" transform=\"translate(326.41,163.34)\" d=\"M2,0A2,2 0 1,1 0,-2A2,2 0 0,1 2,0Z\" style=\"opacity: 1; stroke-width: 0px; fill: rgb(0, 0, 0); fill-opacity: 1;\"/><path class=\"point\" transform=\"translate(330.03,164.32)\" d=\"M2,0A2,2 0 1,1 0,-2A2,2 0 0,1 2,0Z\" style=\"opacity: 1; stroke-width: 0px; fill: rgb(0, 0, 0); fill-opacity: 1;\"/><path class=\"point\" transform=\"translate(333.65,139.71)\" d=\"M2,0A2,2 0 1,1 0,-2A2,2 0 0,1 2,0Z\" style=\"opacity: 1; stroke-width: 0px; fill: rgb(0, 0, 0); fill-opacity: 1;\"/><path class=\"point\" transform=\"translate(337.28,141.01)\" d=\"M2,0A2,2 0 1,1 0,-2A2,2 0 0,1 2,0Z\" style=\"opacity: 1; stroke-width: 0px; fill: rgb(0, 0, 0); fill-opacity: 1;\"/><path class=\"point\" transform=\"translate(340.9,137.63)\" d=\"M2,0A2,2 0 1,1 0,-2A2,2 0 0,1 2,0Z\" style=\"opacity: 1; stroke-width: 0px; fill: rgb(0, 0, 0); fill-opacity: 1;\"/><path class=\"point\" transform=\"translate(344.52,136.55)\" d=\"M2,0A2,2 0 1,1 0,-2A2,2 0 0,1 2,0Z\" style=\"opacity: 1; stroke-width: 0px; fill: rgb(0, 0, 0); fill-opacity: 1;\"/><path class=\"point\" transform=\"translate(348.15,135.92)\" d=\"M2,0A2,2 0 1,1 0,-2A2,2 0 0,1 2,0Z\" style=\"opacity: 1; stroke-width: 0px; fill: rgb(0, 0, 0); fill-opacity: 1;\"/><path class=\"point\" transform=\"translate(351.77,137.71)\" d=\"M2,0A2,2 0 1,1 0,-2A2,2 0 0,1 2,0Z\" style=\"opacity: 1; stroke-width: 0px; fill: rgb(0, 0, 0); fill-opacity: 1;\"/><path class=\"point\" transform=\"translate(355.39,137.57)\" d=\"M2,0A2,2 0 1,1 0,-2A2,2 0 0,1 2,0Z\" style=\"opacity: 1; stroke-width: 0px; fill: rgb(0, 0, 0); fill-opacity: 1;\"/><path class=\"point\" transform=\"translate(359.02,137.57)\" d=\"M2,0A2,2 0 1,1 0,-2A2,2 0 0,1 2,0Z\" style=\"opacity: 1; stroke-width: 0px; fill: rgb(0, 0, 0); fill-opacity: 1;\"/><path class=\"point\" transform=\"translate(362.64,144.91)\" d=\"M2,0A2,2 0 1,1 0,-2A2,2 0 0,1 2,0Z\" style=\"opacity: 1; stroke-width: 0px; fill: rgb(0, 0, 0); fill-opacity: 1;\"/><path class=\"point\" transform=\"translate(366.26,158.22)\" d=\"M2,0A2,2 0 1,1 0,-2A2,2 0 0,1 2,0Z\" style=\"opacity: 1; stroke-width: 0px; fill: rgb(0, 0, 0); fill-opacity: 1;\"/><path class=\"point\" transform=\"translate(369.89,168.57)\" d=\"M2,0A2,2 0 1,1 0,-2A2,2 0 0,1 2,0Z\" style=\"opacity: 1; stroke-width: 0px; fill: rgb(0, 0, 0); fill-opacity: 1;\"/><path class=\"point\" transform=\"translate(373.51,170.01)\" d=\"M2,0A2,2 0 1,1 0,-2A2,2 0 0,1 2,0Z\" style=\"opacity: 1; stroke-width: 0px; fill: rgb(0, 0, 0); fill-opacity: 1;\"/><path class=\"point\" transform=\"translate(377.13,175.57)\" d=\"M2,0A2,2 0 1,1 0,-2A2,2 0 0,1 2,0Z\" style=\"opacity: 1; stroke-width: 0px; fill: rgb(0, 0, 0); fill-opacity: 1;\"/><path class=\"point\" transform=\"translate(380.76,175.04)\" d=\"M2,0A2,2 0 1,1 0,-2A2,2 0 0,1 2,0Z\" style=\"opacity: 1; stroke-width: 0px; fill: rgb(0, 0, 0); fill-opacity: 1;\"/><path class=\"point\" transform=\"translate(384.38,179.77)\" d=\"M2,0A2,2 0 1,1 0,-2A2,2 0 0,1 2,0Z\" style=\"opacity: 1; stroke-width: 0px; fill: rgb(0, 0, 0); fill-opacity: 1;\"/><path class=\"point\" transform=\"translate(388,179.26)\" d=\"M2,0A2,2 0 1,1 0,-2A2,2 0 0,1 2,0Z\" style=\"opacity: 1; stroke-width: 0px; fill: rgb(0, 0, 0); fill-opacity: 1;\"/></g><g class=\"text\"/></g></g></g><g class=\"overplot\"/><path class=\"xlines-above crisp\" d=\"M50.5,287.75H579.5M50.5,23.25H579.5\" style=\"fill: none; stroke-width: 1.5px; stroke: rgb(235, 240, 248); stroke-opacity: 1;\"/><path class=\"ylines-above crisp\" d=\"M51.25,24V287M578.75,24V287\" style=\"fill: none; stroke-width: 1.5px; stroke: rgb(235, 240, 248); stroke-opacity: 1;\"/><g class=\"overlines-above\"/><g class=\"xaxislayer-above\"><g class=\"xtick\"><text text-anchor=\"middle\" x=\"0\" y=\"300.5\" transform=\"translate(92.17,0)\" style=\"font-family: 'Open Sans', verdana, arial, sans-serif; font-size: 10px; fill: rgb(42, 63, 95); fill-opacity: 1; white-space: pre; opacity: 1;\"><tspan class=\"line\" dy=\"0em\" x=\"0\" y=\"300.5\">Dec 28</tspan><tspan class=\"line\" dy=\"1.3em\" x=\"0\" y=\"300.5\">2015</tspan></text></g><g class=\"xtick\"><text text-anchor=\"middle\" x=\"0\" y=\"300.5\" style=\"font-family: 'Open Sans', verdana, arial, sans-serif; font-size: 10px; fill: rgb(42, 63, 95); fill-opacity: 1; white-space: pre; opacity: 1;\" transform=\"translate(179.13,0)\">Dec 29</text></g><g class=\"xtick\"><text text-anchor=\"middle\" x=\"0\" y=\"300.5\" style=\"font-family: 'Open Sans', verdana, arial, sans-serif; font-size: 10px; fill: rgb(42, 63, 95); fill-opacity: 1; white-space: pre; opacity: 1;\" transform=\"translate(266.09000000000003,0)\">Dec 30</text></g><g class=\"xtick\"><text text-anchor=\"middle\" x=\"0\" y=\"300.5\" style=\"font-family: 'Open Sans', verdana, arial, sans-serif; font-size: 10px; fill: rgb(42, 63, 95); fill-opacity: 1; white-space: pre; opacity: 1;\" transform=\"translate(353.04,0)\">Dec 31</text></g><g class=\"xtick\"><text text-anchor=\"middle\" x=\"0\" y=\"300.5\" style=\"font-family: 'Open Sans', verdana, arial, sans-serif; font-size: 10px; fill: rgb(42, 63, 95); fill-opacity: 1; white-space: pre; opacity: 1;\" transform=\"translate(440,0)\"><tspan class=\"line\" dy=\"0em\" x=\"0\" y=\"300.5\">Jan 1</tspan><tspan class=\"line\" dy=\"1.3em\" x=\"0\" y=\"300.5\">2016</tspan></text></g><g class=\"xtick\"><text text-anchor=\"middle\" x=\"0\" y=\"300.5\" style=\"font-family: 'Open Sans', verdana, arial, sans-serif; font-size: 10px; fill: rgb(42, 63, 95); fill-opacity: 1; white-space: pre; opacity: 1;\" transform=\"translate(526.96,0)\">Jan 2</text></g></g><g class=\"yaxislayer-above\"><g class=\"ytick\"><text text-anchor=\"end\" x=\"48.5\" y=\"3.5\" transform=\"translate(0,269.82)\" style=\"font-family: 'Open Sans', verdana, arial, sans-serif; font-size: 10px; fill: rgb(42, 63, 95); fill-opacity: 1; white-space: pre; opacity: 1;\">600</text></g><g class=\"ytick\"><text text-anchor=\"end\" x=\"48.5\" y=\"3.5\" style=\"font-family: 'Open Sans', verdana, arial, sans-serif; font-size: 10px; fill: rgb(42, 63, 95); fill-opacity: 1; white-space: pre; opacity: 1;\" transform=\"translate(0,208.07)\">800</text></g><g class=\"ytick\"><text text-anchor=\"end\" x=\"48.5\" y=\"3.5\" style=\"font-family: 'Open Sans', verdana, arial, sans-serif; font-size: 10px; fill: rgb(42, 63, 95); fill-opacity: 1; white-space: pre; opacity: 1;\" transform=\"translate(0,146.32)\">1000</text></g><g class=\"ytick\"><text text-anchor=\"end\" x=\"48.5\" y=\"3.5\" style=\"font-family: 'Open Sans', verdana, arial, sans-serif; font-size: 10px; fill: rgb(42, 63, 95); fill-opacity: 1; white-space: pre; opacity: 1;\" transform=\"translate(0,84.57)\">1200</text></g></g><g class=\"overaxes-above\"/></g></g><g class=\"polarlayer\"/><g class=\"smithlayer\"/><g class=\"ternarylayer\"/><g class=\"geolayer\"/><g class=\"funnelarealayer\"/><g class=\"pielayer\"/><g class=\"iciclelayer\"/><g class=\"treemaplayer\"/><g class=\"sunburstlayer\"/><g class=\"glimages\"/><defs id=\"topdefs-919701\"><g class=\"clips\"/><clipPath id=\"legend919701\"><rect width=\"111\" height=\"86\" x=\"0\" y=\"0\"/></clipPath><clipPath id=\"rangesliderx-919701\"><rect x=\"0\" y=\"0\" width=\"526\" height=\"61.5\"/></clipPath></defs><g class=\"layer-above\"><g class=\"imagelayer\"/><g class=\"shapelayer\"/></g><g class=\"infolayer\"><g class=\"legend\" pointer-events=\"all\" transform=\"translate(588.52,24)\"><rect class=\"bg\" shape-rendering=\"crispEdges\" style=\"stroke: rgb(68, 68, 68); stroke-opacity: 1; fill: rgb(255, 255, 255); fill-opacity: 1; stroke-width: 0px;\" width=\"111\" height=\"86\" x=\"0\" y=\"0\"/><g class=\"scrollbox\" transform=\"\" clip-path=\"url(#legend919701)\"><g class=\"groups\"><g class=\"traces\" transform=\"translate(0,14.5)\" style=\"opacity: 1;\"><text class=\"legendtext\" text-anchor=\"start\" x=\"40\" y=\"3.9\" style=\"font-family: 'Open Sans', verdana, arial, sans-serif; font-size: 10px; fill: rgb(42, 63, 95); fill-opacity: 1; white-space: pre;\">Actual</text><g class=\"layers\" style=\"opacity: 1;\"><g class=\"legendfill\"/><g class=\"legendlines\"/><g class=\"legendsymbols\"><g class=\"legendpoints\"><path class=\"scatterpts\" transform=\"translate(20,0)\" d=\"M2,0A2,2 0 1,1 0,-2A2,2 0 0,1 2,0Z\" style=\"opacity: 1; stroke-width: 0px; fill: rgb(0, 0, 0); fill-opacity: 1;\"/></g></g></g><rect class=\"legendtoggle\" x=\"0\" y=\"-9.5\" width=\"105.546875\" height=\"19\" style=\"fill: rgb(0, 0, 0); fill-opacity: 0;\"/></g><g class=\"traces\" transform=\"translate(0,33.5)\" style=\"opacity: 1;\"><text class=\"legendtext\" text-anchor=\"start\" x=\"40\" y=\"3.9\" style=\"font-family: 'Open Sans', verdana, arial, sans-serif; font-size: 10px; fill: rgb(42, 63, 95); fill-opacity: 1; white-space: pre;\">yhat1 95.0%</text><g class=\"layers\"><g class=\"legendfill\"><path class=\"js-fill\" d=\"M5,-2h30v6h-30z\" style=\"stroke-width: 0; fill: rgb(45, 146, 255); fill-opacity: 0.2;\"/></g><g class=\"legendlines\"><path class=\"js-line\" d=\"M5,-2h30\" style=\"fill: none; stroke: rgb(45, 146, 255); stroke-opacity: 0.2; stroke-width: 1px;\"/></g><g class=\"legendsymbols\"><g class=\"legendpoints\"/></g></g><rect class=\"legendtoggle\" x=\"0\" y=\"-9.5\" width=\"105.546875\" height=\"19\" style=\"fill: rgb(0, 0, 0); fill-opacity: 0;\"/></g><g class=\"traces\" transform=\"translate(0,52.5)\" style=\"opacity: 1;\"><text class=\"legendtext\" text-anchor=\"start\" x=\"40\" y=\"3.9\" style=\"font-family: 'Open Sans', verdana, arial, sans-serif; font-size: 10px; fill: rgb(42, 63, 95); fill-opacity: 1; white-space: pre;\">yhat1 5.0%</text><g class=\"layers\"><g class=\"legendfill\"/><g class=\"legendlines\"><path class=\"js-line\" d=\"M5,0h30\" style=\"fill: none; stroke: rgb(45, 146, 255); stroke-opacity: 0.2; stroke-width: 1px;\"/></g><g class=\"legendsymbols\"><g class=\"legendpoints\"/></g></g><rect class=\"legendtoggle\" x=\"0\" y=\"-9.5\" width=\"105.546875\" height=\"19\" style=\"fill: rgb(0, 0, 0); fill-opacity: 0;\"/></g><g class=\"traces\" transform=\"translate(0,71.5)\" style=\"opacity: 1;\"><text class=\"legendtext\" text-anchor=\"start\" x=\"40\" y=\"3.9\" style=\"font-family: 'Open Sans', verdana, arial, sans-serif; font-size: 10px; fill: rgb(42, 63, 95); fill-opacity: 1; white-space: pre;\">yhat1</text><g class=\"layers\" style=\"opacity: 1;\"><g class=\"legendfill\"/><g class=\"legendlines\"><path class=\"js-line\" d=\"M5,0h30\" style=\"fill: none; stroke: rgb(45, 146, 255); stroke-opacity: 1; stroke-width: 2px;\"/></g><g class=\"legendsymbols\"><g class=\"legendpoints\"/></g></g><rect class=\"legendtoggle\" x=\"0\" y=\"-9.5\" width=\"105.546875\" height=\"19\" style=\"fill: rgb(0, 0, 0); fill-opacity: 0;\"/></g></g></g><rect class=\"scrollbar\" rx=\"20\" ry=\"3\" width=\"0\" height=\"0\" style=\"fill: rgb(128, 139, 164); fill-opacity: 1;\" x=\"0\" y=\"0\"/></g><g class=\"rangeselector\" transform=\"\" style=\"cursor: pointer; pointer-events: all;\"><g class=\"button\" transform=\"\"><rect class=\"selector-rect\" shape-rendering=\"crispEdges\" rx=\"3\" ry=\"3\" style=\"stroke: rgb(68, 68, 68); stroke-opacity: 1; fill: rgb(238, 238, 238); fill-opacity: 1; stroke-width: 0px;\" x=\"0\" y=\"0\" width=\"30\" height=\"19\"/><text class=\"selector-text\" text-anchor=\"middle\" x=\"15\" y=\"12.5\" style=\"font-family: 'Open Sans', verdana, arial, sans-serif; font-size: 10px; fill: rgb(42, 63, 95); fill-opacity: 1; white-space: pre;\">1w</text></g><g class=\"button\" transform=\"translate(35,0)\"><rect class=\"selector-rect\" shape-rendering=\"crispEdges\" rx=\"3\" ry=\"3\" style=\"stroke: rgb(68, 68, 68); stroke-opacity: 1; fill: rgb(238, 238, 238); fill-opacity: 1; stroke-width: 0px;\" x=\"0\" y=\"0\" width=\"30\" height=\"19\"/><text class=\"selector-text\" text-anchor=\"middle\" x=\"15\" y=\"12.5\" style=\"font-family: 'Open Sans', verdana, arial, sans-serif; font-size: 10px; fill: rgb(42, 63, 95); fill-opacity: 1; white-space: pre;\">1m</text></g><g class=\"button\" transform=\"translate(70,0)\"><rect class=\"selector-rect\" shape-rendering=\"crispEdges\" rx=\"3\" ry=\"3\" style=\"stroke: rgb(68, 68, 68); stroke-opacity: 1; fill: rgb(238, 238, 238); fill-opacity: 1; stroke-width: 0px;\" x=\"0\" y=\"0\" width=\"30\" height=\"19\"/><text class=\"selector-text\" text-anchor=\"middle\" x=\"15\" y=\"12.5\" style=\"font-family: 'Open Sans', verdana, arial, sans-serif; font-size: 10px; fill: rgb(42, 63, 95); fill-opacity: 1; white-space: pre;\">6m</text></g><g class=\"button\" transform=\"translate(105,0)\"><rect class=\"selector-rect\" shape-rendering=\"crispEdges\" rx=\"3\" ry=\"3\" style=\"stroke: rgb(68, 68, 68); stroke-opacity: 1; fill: rgb(238, 238, 238); fill-opacity: 1; stroke-width: 0px;\" x=\"0\" y=\"0\" width=\"30\" height=\"19\"/><text class=\"selector-text\" text-anchor=\"middle\" x=\"15\" y=\"12.5\" style=\"font-family: 'Open Sans', verdana, arial, sans-serif; font-size: 10px; fill: rgb(42, 63, 95); fill-opacity: 1; white-space: pre;\">1y</text></g><g class=\"button\" transform=\"translate(140,0)\"><rect class=\"selector-rect\" shape-rendering=\"crispEdges\" rx=\"3\" ry=\"3\" style=\"stroke: rgb(68, 68, 68); stroke-opacity: 1; fill: rgb(212, 212, 212); fill-opacity: 1; stroke-width: 0px;\" x=\"0\" y=\"0\" width=\"30\" height=\"19\"/><text class=\"selector-text\" text-anchor=\"middle\" x=\"15\" y=\"12.5\" style=\"font-family: 'Open Sans', verdana, arial, sans-serif; font-size: 10px; fill: rgb(42, 63, 95); fill-opacity: 1; white-space: pre;\">all</text></g></g><g class=\"g-gtitle\"/><g class=\"rangeslider-container\" pointer-events=\"all\" transform=\"translate(52,331)\"><rect class=\"rangeslider-bg\" x=\"0\" y=\"0\" shape-rendering=\"crispEdges\" width=\"526\" height=\"61.5\" transform=\"\" stroke-width=\"0\" style=\"stroke: rgb(68, 68, 68); stroke-opacity: 1; fill: rgb(255, 255, 255); fill-opacity: 1;\"/><g class=\"rangeslider-rangeplot xy\" clip-path=\"url(#rangesliderx-919701)\"><g class=\"layer-subplot\"><g class=\"shapelayer\"/><g class=\"imagelayer\"/></g><g class=\"minor-gridlayer\"><g class=\"x\"/><g class=\"y\"/></g><g class=\"gridlayer\"><g class=\"x\"/><g class=\"y\"/></g><g class=\"zerolinelayer\"/><path class=\"xlines-below\"/><path class=\"ylines-below\"/><g class=\"overlines-below\"/><g class=\"xaxislayer-below\"/><g class=\"yaxislayer-below\"/><g class=\"overaxes-below\"/><g class=\"plot\"><g class=\"scatterlayer mlayer rangeplot\"><g class=\"trace scatter traced6883c\" style=\"stroke-miterlimit: 2; opacity: 1;\"><g class=\"fills\"/><g class=\"errorbars\"/><g class=\"lines\"><path class=\"js-line\" d=\"M29.3,32.47L32.92,35.01L36.55,36.5L43.79,37.32L47.42,37.24L51.04,36.89L54.66,35.49L58.29,31.53L61.91,24.5L65.53,16.6L69.16,11.2L72.78,9.31L76.4,9.14L83.65,9.72L87.27,10.79L90.9,11.04L94.52,10.04L98.14,9.89L101.77,12.84L112.63,29.34L116.26,32.91L119.88,35.39L123.5,36.81L130.75,37.49L134.37,37.33L138,36.9L141.62,35.43L145.24,31.4L148.87,24.31L152.49,16.37L156.11,10.94L159.74,9.04L163.36,8.88L170.61,9.57L174.23,10.73L177.85,11.11L181.48,10.27L185.1,10.31L188.72,13.49L199.59,30.9L203.22,34.84L206.84,37.73L210.46,39.59L217.71,41.24L221.33,41.61L224.96,41.72L228.58,40.82L232.2,37.37L235.83,30.86L239.45,23.51L243.07,18.67L246.7,17.35L250.32,17.75L257.57,19.51L261.19,21.17L264.81,22L268.43,21.58L272.06,21.99L275.68,25.49L286.55,43.5L290.17,47.51L293.8,50.4L297.42,52.19L304.67,53.46L308.29,53.54L311.91,53.28L315.54,51.92L319.16,47.95L322.78,40.86L326.41,32.84L330.03,27.28L333.65,25.17L337.28,24.74L344.52,24.68L348.15,25.37L351.77,25.2L355.39,23.75L359.02,23.11L362.64,25.56L373.51,40.41L377.13,43.41L380.76,45.3L384.38,46.13L391.63,45.6L395.25,44.84L398.87,43.82L402.5,41.75L406.12,37.14L409.74,29.47L413.37,20.96L416.99,14.97L420.61,12.51L424.23,11.81L431.48,11.44L435.1,12.08L438.73,11.94L442.35,10.6L445.97,10.14L449.6,12.82L460.47,28.75L464.09,32.2L467.71,34.6L471.34,35.96L478.58,36.59L482.21,36.45L485.83,36.05L489.45,34.62L493.08,30.64L496.7,23.6\" style=\"vector-effect: none; fill: none; stroke: rgb(45, 146, 255); stroke-opacity: 1; stroke-width: 2px; opacity: 1;\"/></g><g class=\"points\"/><g class=\"text\"/></g><g class=\"trace scatter trace449991\" style=\"stroke-miterlimit: 2;\"><g class=\"fills\"><g><path class=\"js-fill\" d=\"M29.3,29.59L43.79,32.02L47.42,31.33L54.66,31.15L58.29,26.22L65.53,9.02L69.16,5.21L76.4,3.76L80.03,3.91L87.27,5.5L90.9,5.46L101.77,4.28L105.39,7.61L112.63,24.61L116.26,29.43L130.75,31.84L134.37,31.15L141.62,30.96L145.24,26.04L152.49,8.86L156.11,5.08L163.36,3.71L166.98,3.92L174.23,5.68L177.85,5.76L188.72,5.04L192.35,8.56L199.59,26.02L203.22,31.09L217.71,34.73L221.33,34.38L228.58,34.92L232.2,30.38L239.45,13.96L243.07,10.56L250.32,9.94L253.94,10.51L261.19,12.94L264.81,13.31L275.68,13.31L279.3,17L286.55,34.68L290.17,39.8L304.67,43.13L308.29,42.58L315.54,42.56L319.16,37.66L326.41,20.39L330.03,16.5L337.28,14.76L340.9,14.72L348.15,15.82L351.77,15.5L362.64,13.3L366.26,16.24L373.51,32.43L377.13,36.82L391.63,37.42L395.25,36.26L402.5,35.15L406.12,29.77L413.37,11.67L416.99,7.45L424.23,5.21L427.86,5L435.1,5.94L438.73,5.61L449.6,3.74L453.22,6.89L460.47,23.62L464.09,28.34L478.58,30.58L482.21,29.89L489.45,29.74L493.08,24.85L496.7,15.81L496.7,34.27L493.08,39.25L489.45,42.13L485.83,43.93L482.21,44.67L478.58,44.36L471.34,44.22L467.71,43.33L460.47,37.1L456.84,34.11L449.6,26.94L445.97,24.14L442.35,23.61L438.73,24.02L431.48,23.22L427.86,23.36L420.61,24.72L416.99,27.98L409.74,41.6L406.12,46.92L402.5,50.14L398.87,52.28L395.25,53.34L391.63,53.34L384.38,53.77L380.76,53.14L373.51,47.33L369.89,44.5L362.64,37.53L359.02,34.76L355.39,34.23L351.77,34.58L344.52,33.5L340.9,33.42L333.65,34.16L330.03,37.03L326.41,42.97L322.78,49.69L319.16,54.46L315.54,57.07L311.91,58.54L308.29,58.9L297.42,56.96L293.8,55.48L286.55,47.89L282.93,44.15L275.68,35.34L272.06,31.65L268.43,30.2L264.81,29.66L257.57,26.86L253.94,25.97L246.7,25.21L243.07,27.39L235.83,38.86L232.2,43.12L228.58,45.28L224.96,46.38L221.33,46.43L217.71,45.43L210.46,43.98L206.84,42.47L199.59,35.04L195.97,31.47L188.72,23.19L185.1,19.86L181.48,18.82L177.85,18.73L170.61,16.97L166.98,16.65L159.74,17.11L156.11,19.93L148.87,32.7L145.24,37.6L141.62,40.42L138,42.15L134.37,42.81L130.75,42.42L123.5,42.09L119.88,41.09L112.63,34.57L109.01,31.39L101.77,23.79L98.14,20.72L94.52,19.91L90.9,20L83.65,18.47L80.03,18.21L72.78,18.66L69.16,21.43L61.91,34L58.29,38.77L54.66,41.42L51.04,42.98L47.42,43.45L43.79,42.86L36.55,42.11L32.92,40.9L29.3,37.77Z\" style=\"fill: rgb(45, 146, 255); fill-opacity: 0.2; stroke-width: 0;\"/></g></g><g class=\"errorbars\"/><g class=\"lines\"><path class=\"js-line\" d=\"M29.3,37.77L32.92,40.9L36.55,42.11L43.79,42.86L47.42,43.45L51.04,42.98L54.66,41.42L58.29,38.77L61.91,34L69.16,21.43L72.78,18.66L80.03,18.21L83.65,18.47L90.9,20L94.52,19.91L98.14,20.72L101.77,23.79L109.01,31.39L112.63,34.57L119.88,41.09L123.5,42.09L130.75,42.42L134.37,42.81L138,42.15L141.62,40.42L145.24,37.6L148.87,32.7L156.11,19.93L159.74,17.11L166.98,16.65L170.61,16.97L177.85,18.73L181.48,18.82L185.1,19.86L188.72,23.19L195.97,31.47L199.59,35.04L206.84,42.47L210.46,43.98L217.71,45.43L221.33,46.43L224.96,46.38L228.58,45.28L232.2,43.12L235.83,38.86L243.07,27.39L246.7,25.21L253.94,25.97L257.57,26.86L264.81,29.66L268.43,30.2L272.06,31.65L275.68,35.34L282.93,44.15L286.55,47.89L293.8,55.48L297.42,56.96L308.29,58.9L311.91,58.54L315.54,57.07L319.16,54.46L322.78,49.69L326.41,42.97L330.03,37.03L333.65,34.16L340.9,33.42L344.52,33.5L351.77,34.58L355.39,34.23L359.02,34.76L362.64,37.53L369.89,44.5L373.51,47.33L380.76,53.14L384.38,53.77L391.63,53.34L395.25,53.34L398.87,52.28L402.5,50.14L406.12,46.92L409.74,41.6L416.99,27.98L420.61,24.72L427.86,23.36L431.48,23.22L438.73,24.02L442.35,23.61L445.97,24.14L449.6,26.94L456.84,34.11L460.47,37.1L467.71,43.33L471.34,44.22L478.58,44.36L482.21,44.67L485.83,43.93L489.45,42.13L493.08,39.25L496.7,34.27\" style=\"vector-effect: none; fill: none; stroke: rgb(45, 146, 255); stroke-opacity: 0.2; stroke-width: 1px; opacity: 1;\"/></g><g class=\"points\"/><g class=\"text\"/></g><g class=\"trace scatter trace30d302\" style=\"stroke-miterlimit: 2;\"><g class=\"fills\"/><g class=\"errorbars\"/><g class=\"lines\"><path class=\"js-line\" d=\"M29.3,29.59L43.79,32.02L47.42,31.33L54.66,31.15L58.29,26.22L65.53,9.02L69.16,5.21L76.4,3.76L80.03,3.91L87.27,5.5L90.9,5.46L101.77,4.28L105.39,7.61L112.63,24.61L116.26,29.43L130.75,31.84L134.37,31.15L141.62,30.96L145.24,26.04L152.49,8.86L156.11,5.08L163.36,3.71L166.98,3.92L174.23,5.68L177.85,5.76L188.72,5.04L192.35,8.56L199.59,26.02L203.22,31.09L217.71,34.73L221.33,34.38L228.58,34.92L232.2,30.38L239.45,13.96L243.07,10.56L250.32,9.94L253.94,10.51L261.19,12.94L264.81,13.31L275.68,13.31L279.3,17L286.55,34.68L290.17,39.8L304.67,43.13L308.29,42.58L315.54,42.56L319.16,37.66L326.41,20.39L330.03,16.5L337.28,14.76L340.9,14.72L348.15,15.82L351.77,15.5L362.64,13.3L366.26,16.24L373.51,32.43L377.13,36.82L391.63,37.42L395.25,36.26L402.5,35.15L406.12,29.77L413.37,11.67L416.99,7.45L424.23,5.21L427.86,5L435.1,5.94L438.73,5.61L449.6,3.74L453.22,6.89L460.47,23.62L464.09,28.34L478.58,30.58L482.21,29.89L489.45,29.74L493.08,24.85L496.7,15.81\" style=\"vector-effect: none; fill: none; stroke: rgb(45, 146, 255); stroke-opacity: 0.2; stroke-width: 1px; opacity: 1;\"/></g><g class=\"points\"/><g class=\"text\"/></g><g class=\"trace scatter tracee2f38a\" style=\"stroke-miterlimit: 2; opacity: 1;\"><g class=\"fills\"/><g class=\"errorbars\"/><g class=\"lines\"/><g class=\"points\"><path class=\"point\" transform=\"translate(29.3,34.23)\" d=\"M2,0A2,2 0 1,1 0,-2A2,2 0 0,1 2,0Z\" style=\"opacity: 1; stroke-width: 0px; fill: rgb(0, 0, 0); fill-opacity: 1;\"/><path class=\"point\" transform=\"translate(32.92,37.19)\" d=\"M2,0A2,2 0 1,1 0,-2A2,2 0 0,1 2,0Z\" style=\"opacity: 1; stroke-width: 0px; fill: rgb(0, 0, 0); fill-opacity: 1;\"/><path class=\"point\" transform=\"translate(36.55,42.7)\" d=\"M2,0A2,2 0 1,1 0,-2A2,2 0 0,1 2,0Z\" style=\"opacity: 1; stroke-width: 0px; fill: rgb(0, 0, 0); fill-opacity: 1;\"/><path class=\"point\" transform=\"translate(40.17,42.6)\" d=\"M2,0A2,2 0 1,1 0,-2A2,2 0 0,1 2,0Z\" style=\"opacity: 1; stroke-width: 0px; fill: rgb(0, 0, 0); fill-opacity: 1;\"/><path class=\"point\" transform=\"translate(43.79,43.39)\" d=\"M2,0A2,2 0 1,1 0,-2A2,2 0 0,1 2,0Z\" style=\"opacity: 1; stroke-width: 0px; fill: rgb(0, 0, 0); fill-opacity: 1;\"/><path class=\"point\" transform=\"translate(47.42,43.75)\" d=\"M2,0A2,2 0 1,1 0,-2A2,2 0 0,1 2,0Z\" style=\"opacity: 1; stroke-width: 0px; fill: rgb(0, 0, 0); fill-opacity: 1;\"/><path class=\"point\" transform=\"translate(51.04,43.6)\" d=\"M2,0A2,2 0 1,1 0,-2A2,2 0 0,1 2,0Z\" style=\"opacity: 1; stroke-width: 0px; fill: rgb(0, 0, 0); fill-opacity: 1;\"/><path class=\"point\" transform=\"translate(54.66,44.09)\" d=\"M2,0A2,2 0 1,1 0,-2A2,2 0 0,1 2,0Z\" style=\"opacity: 1; stroke-width: 0px; fill: rgb(0, 0, 0); fill-opacity: 1;\"/><path class=\"point\" transform=\"translate(58.29,37.33)\" d=\"M2,0A2,2 0 1,1 0,-2A2,2 0 0,1 2,0Z\" style=\"opacity: 1; stroke-width: 0px; fill: rgb(0, 0, 0); fill-opacity: 1;\"/><path class=\"point\" transform=\"translate(61.91,37.22)\" d=\"M2,0A2,2 0 1,1 0,-2A2,2 0 0,1 2,0Z\" style=\"opacity: 1; stroke-width: 0px; fill: rgb(0, 0, 0); fill-opacity: 1;\"/><path class=\"point\" transform=\"translate(65.53,20.89)\" d=\"M2,0A2,2 0 1,1 0,-2A2,2 0 0,1 2,0Z\" style=\"opacity: 1; stroke-width: 0px; fill: rgb(0, 0, 0); fill-opacity: 1;\"/><path class=\"point\" transform=\"translate(69.16,12.31)\" d=\"M2,0A2,2 0 1,1 0,-2A2,2 0 0,1 2,0Z\" style=\"opacity: 1; stroke-width: 0px; fill: rgb(0, 0, 0); fill-opacity: 1;\"/><path class=\"point\" transform=\"translate(72.78,9.79)\" d=\"M2,0A2,2 0 1,1 0,-2A2,2 0 0,1 2,0Z\" style=\"opacity: 1; stroke-width: 0px; fill: rgb(0, 0, 0); fill-opacity: 1;\"/><path class=\"point\" transform=\"translate(76.4,6.48)\" d=\"M2,0A2,2 0 1,1 0,-2A2,2 0 0,1 2,0Z\" style=\"opacity: 1; stroke-width: 0px; fill: rgb(0, 0, 0); fill-opacity: 1;\"/><path class=\"point\" transform=\"translate(80.03,4.75)\" d=\"M2,0A2,2 0 1,1 0,-2A2,2 0 0,1 2,0Z\" style=\"opacity: 1; stroke-width: 0px; fill: rgb(0, 0, 0); fill-opacity: 1;\"/><path class=\"point\" transform=\"translate(83.65,4.86)\" d=\"M2,0A2,2 0 1,1 0,-2A2,2 0 0,1 2,0Z\" style=\"opacity: 1; stroke-width: 0px; fill: rgb(0, 0, 0); fill-opacity: 1;\"/><path class=\"point\" transform=\"translate(87.27,8.1)\" d=\"M2,0A2,2 0 1,1 0,-2A2,2 0 0,1 2,0Z\" style=\"opacity: 1; stroke-width: 0px; fill: rgb(0, 0, 0); fill-opacity: 1;\"/><path class=\"point\" transform=\"translate(90.9,5.43)\" d=\"M2,0A2,2 0 1,1 0,-2A2,2 0 0,1 2,0Z\" style=\"opacity: 1; stroke-width: 0px; fill: rgb(0, 0, 0); fill-opacity: 1;\"/><path class=\"point\" transform=\"translate(94.52,5.66)\" d=\"M2,0A2,2 0 1,1 0,-2A2,2 0 0,1 2,0Z\" style=\"opacity: 1; stroke-width: 0px; fill: rgb(0, 0, 0); fill-opacity: 1;\"/><path class=\"point\" transform=\"translate(98.14,5.97)\" d=\"M2,0A2,2 0 1,1 0,-2A2,2 0 0,1 2,0Z\" style=\"opacity: 1; stroke-width: 0px; fill: rgb(0, 0, 0); fill-opacity: 1;\"/><path class=\"point\" transform=\"translate(101.77,4.94)\" d=\"M2,0A2,2 0 1,1 0,-2A2,2 0 0,1 2,0Z\" style=\"opacity: 1; stroke-width: 0px; fill: rgb(0, 0, 0); fill-opacity: 1;\"/><path class=\"point\" transform=\"translate(105.39,3.81)\" d=\"M2,0A2,2 0 1,1 0,-2A2,2 0 0,1 2,0Z\" style=\"opacity: 1; stroke-width: 0px; fill: rgb(0, 0, 0); fill-opacity: 1;\"/><path class=\"point\" transform=\"translate(109.01,23.09)\" d=\"M2,0A2,2 0 1,1 0,-2A2,2 0 0,1 2,0Z\" style=\"opacity: 1; stroke-width: 0px; fill: rgb(0, 0, 0); fill-opacity: 1;\"/><path class=\"point\" transform=\"translate(112.63,23.6)\" d=\"M2,0A2,2 0 1,1 0,-2A2,2 0 0,1 2,0Z\" style=\"opacity: 1; stroke-width: 0px; fill: rgb(0, 0, 0); fill-opacity: 1;\"/><path class=\"point\" transform=\"translate(116.26,34.01)\" d=\"M2,0A2,2 0 1,1 0,-2A2,2 0 0,1 2,0Z\" style=\"opacity: 1; stroke-width: 0px; fill: rgb(0, 0, 0); fill-opacity: 1;\"/><path class=\"point\" transform=\"translate(119.88,37.44)\" d=\"M2,0A2,2 0 1,1 0,-2A2,2 0 0,1 2,0Z\" style=\"opacity: 1; stroke-width: 0px; fill: rgb(0, 0, 0); fill-opacity: 1;\"/><path class=\"point\" transform=\"translate(123.5,41.91)\" d=\"M2,0A2,2 0 1,1 0,-2A2,2 0 0,1 2,0Z\" style=\"opacity: 1; stroke-width: 0px; fill: rgb(0, 0, 0); fill-opacity: 1;\"/><path class=\"point\" transform=\"translate(127.13,42.22)\" d=\"M2,0A2,2 0 1,1 0,-2A2,2 0 0,1 2,0Z\" style=\"opacity: 1; stroke-width: 0px; fill: rgb(0, 0, 0); fill-opacity: 1;\"/><path class=\"point\" transform=\"translate(130.75,43.4)\" d=\"M2,0A2,2 0 1,1 0,-2A2,2 0 0,1 2,0Z\" style=\"opacity: 1; stroke-width: 0px; fill: rgb(0, 0, 0); fill-opacity: 1;\"/><path class=\"point\" transform=\"translate(134.37,43.41)\" d=\"M2,0A2,2 0 1,1 0,-2A2,2 0 0,1 2,0Z\" style=\"opacity: 1; stroke-width: 0px; fill: rgb(0, 0, 0); fill-opacity: 1;\"/><path class=\"point\" transform=\"translate(138,43.61)\" d=\"M2,0A2,2 0 1,1 0,-2A2,2 0 0,1 2,0Z\" style=\"opacity: 1; stroke-width: 0px; fill: rgb(0, 0, 0); fill-opacity: 1;\"/><path class=\"point\" transform=\"translate(141.62,43.97)\" d=\"M2,0A2,2 0 1,1 0,-2A2,2 0 0,1 2,0Z\" style=\"opacity: 1; stroke-width: 0px; fill: rgb(0, 0, 0); fill-opacity: 1;\"/><path class=\"point\" transform=\"translate(145.24,37.26)\" d=\"M2,0A2,2 0 1,1 0,-2A2,2 0 0,1 2,0Z\" style=\"opacity: 1; stroke-width: 0px; fill: rgb(0, 0, 0); fill-opacity: 1;\"/><path class=\"point\" transform=\"translate(148.87,37.09)\" d=\"M2,0A2,2 0 1,1 0,-2A2,2 0 0,1 2,0Z\" style=\"opacity: 1; stroke-width: 0px; fill: rgb(0, 0, 0); fill-opacity: 1;\"/><path class=\"point\" transform=\"translate(152.49,20.46)\" d=\"M2,0A2,2 0 1,1 0,-2A2,2 0 0,1 2,0Z\" style=\"opacity: 1; stroke-width: 0px; fill: rgb(0, 0, 0); fill-opacity: 1;\"/><path class=\"point\" transform=\"translate(156.11,12.41)\" d=\"M2,0A2,2 0 1,1 0,-2A2,2 0 0,1 2,0Z\" style=\"opacity: 1; stroke-width: 0px; fill: rgb(0, 0, 0); fill-opacity: 1;\"/><path class=\"point\" transform=\"translate(159.74,9.5)\" d=\"M2,0A2,2 0 1,1 0,-2A2,2 0 0,1 2,0Z\" style=\"opacity: 1; stroke-width: 0px; fill: rgb(0, 0, 0); fill-opacity: 1;\"/><path class=\"point\" transform=\"translate(163.36,6.84)\" d=\"M2,0A2,2 0 1,1 0,-2A2,2 0 0,1 2,0Z\" style=\"opacity: 1; stroke-width: 0px; fill: rgb(0, 0, 0); fill-opacity: 1;\"/><path class=\"point\" transform=\"translate(166.98,5.86)\" d=\"M2,0A2,2 0 1,1 0,-2A2,2 0 0,1 2,0Z\" style=\"opacity: 1; stroke-width: 0px; fill: rgb(0, 0, 0); fill-opacity: 1;\"/><path class=\"point\" transform=\"translate(170.61,5.45)\" d=\"M2,0A2,2 0 1,1 0,-2A2,2 0 0,1 2,0Z\" style=\"opacity: 1; stroke-width: 0px; fill: rgb(0, 0, 0); fill-opacity: 1;\"/><path class=\"point\" transform=\"translate(174.23,7.43)\" d=\"M2,0A2,2 0 1,1 0,-2A2,2 0 0,1 2,0Z\" style=\"opacity: 1; stroke-width: 0px; fill: rgb(0, 0, 0); fill-opacity: 1;\"/><path class=\"point\" transform=\"translate(177.85,4.48)\" d=\"M2,0A2,2 0 1,1 0,-2A2,2 0 0,1 2,0Z\" style=\"opacity: 1; stroke-width: 0px; fill: rgb(0, 0, 0); fill-opacity: 1;\"/><path class=\"point\" transform=\"translate(181.48,5.58)\" d=\"M2,0A2,2 0 1,1 0,-2A2,2 0 0,1 2,0Z\" style=\"opacity: 1; stroke-width: 0px; fill: rgb(0, 0, 0); fill-opacity: 1;\"/><path class=\"point\" transform=\"translate(185.1,6.54)\" d=\"M2,0A2,2 0 1,1 0,-2A2,2 0 0,1 2,0Z\" style=\"opacity: 1; stroke-width: 0px; fill: rgb(0, 0, 0); fill-opacity: 1;\"/><path class=\"point\" transform=\"translate(188.72,5.3)\" d=\"M2,0A2,2 0 1,1 0,-2A2,2 0 0,1 2,0Z\" style=\"opacity: 1; stroke-width: 0px; fill: rgb(0, 0, 0); fill-opacity: 1;\"/><path class=\"point\" transform=\"translate(192.35,3.83)\" d=\"M2,0A2,2 0 1,1 0,-2A2,2 0 0,1 2,0Z\" style=\"opacity: 1; stroke-width: 0px; fill: rgb(0, 0, 0); fill-opacity: 1;\"/><path class=\"point\" transform=\"translate(195.97,24.12)\" d=\"M2,0A2,2 0 1,1 0,-2A2,2 0 0,1 2,0Z\" style=\"opacity: 1; stroke-width: 0px; fill: rgb(0, 0, 0); fill-opacity: 1;\"/><path class=\"point\" transform=\"translate(199.59,24.76)\" d=\"M2,0A2,2 0 1,1 0,-2A2,2 0 0,1 2,0Z\" style=\"opacity: 1; stroke-width: 0px; fill: rgb(0, 0, 0); fill-opacity: 1;\"/><path class=\"point\" transform=\"translate(203.22,34.59)\" d=\"M2,0A2,2 0 1,1 0,-2A2,2 0 0,1 2,0Z\" style=\"opacity: 1; stroke-width: 0px; fill: rgb(0, 0, 0); fill-opacity: 1;\"/><path class=\"point\" transform=\"translate(206.84,37.58)\" d=\"M2,0A2,2 0 1,1 0,-2A2,2 0 0,1 2,0Z\" style=\"opacity: 1; stroke-width: 0px; fill: rgb(0, 0, 0); fill-opacity: 1;\"/><path class=\"point\" transform=\"translate(210.46,42.59)\" d=\"M2,0A2,2 0 1,1 0,-2A2,2 0 0,1 2,0Z\" style=\"opacity: 1; stroke-width: 0px; fill: rgb(0, 0, 0); fill-opacity: 1;\"/><path class=\"point\" transform=\"translate(214.09,42.55)\" d=\"M2,0A2,2 0 1,1 0,-2A2,2 0 0,1 2,0Z\" style=\"opacity: 1; stroke-width: 0px; fill: rgb(0, 0, 0); fill-opacity: 1;\"/><path class=\"point\" transform=\"translate(217.71,43.59)\" d=\"M2,0A2,2 0 1,1 0,-2A2,2 0 0,1 2,0Z\" style=\"opacity: 1; stroke-width: 0px; fill: rgb(0, 0, 0); fill-opacity: 1;\"/><path class=\"point\" transform=\"translate(221.33,43.38)\" d=\"M2,0A2,2 0 1,1 0,-2A2,2 0 0,1 2,0Z\" style=\"opacity: 1; stroke-width: 0px; fill: rgb(0, 0, 0); fill-opacity: 1;\"/><path class=\"point\" transform=\"translate(224.96,43.94)\" d=\"M2,0A2,2 0 1,1 0,-2A2,2 0 0,1 2,0Z\" style=\"opacity: 1; stroke-width: 0px; fill: rgb(0, 0, 0); fill-opacity: 1;\"/><path class=\"point\" transform=\"translate(228.58,44.02)\" d=\"M2,0A2,2 0 1,1 0,-2A2,2 0 0,1 2,0Z\" style=\"opacity: 1; stroke-width: 0px; fill: rgb(0, 0, 0); fill-opacity: 1;\"/><path class=\"point\" transform=\"translate(232.2,42.96)\" d=\"M2,0A2,2 0 1,1 0,-2A2,2 0 0,1 2,0Z\" style=\"opacity: 1; stroke-width: 0px; fill: rgb(0, 0, 0); fill-opacity: 1;\"/><path class=\"point\" transform=\"translate(235.83,43.36)\" d=\"M2,0A2,2 0 1,1 0,-2A2,2 0 0,1 2,0Z\" style=\"opacity: 1; stroke-width: 0px; fill: rgb(0, 0, 0); fill-opacity: 1;\"/><path class=\"point\" transform=\"translate(239.45,38.3)\" d=\"M2,0A2,2 0 1,1 0,-2A2,2 0 0,1 2,0Z\" style=\"opacity: 1; stroke-width: 0px; fill: rgb(0, 0, 0); fill-opacity: 1;\"/><path class=\"point\" transform=\"translate(243.07,30.28)\" d=\"M2,0A2,2 0 1,1 0,-2A2,2 0 0,1 2,0Z\" style=\"opacity: 1; stroke-width: 0px; fill: rgb(0, 0, 0); fill-opacity: 1;\"/><path class=\"point\" transform=\"translate(246.7,29.25)\" d=\"M2,0A2,2 0 1,1 0,-2A2,2 0 0,1 2,0Z\" style=\"opacity: 1; stroke-width: 0px; fill: rgb(0, 0, 0); fill-opacity: 1;\"/><path class=\"point\" transform=\"translate(250.32,20.94)\" d=\"M2,0A2,2 0 1,1 0,-2A2,2 0 0,1 2,0Z\" style=\"opacity: 1; stroke-width: 0px; fill: rgb(0, 0, 0); fill-opacity: 1;\"/><path class=\"point\" transform=\"translate(253.94,19.81)\" d=\"M2,0A2,2 0 1,1 0,-2A2,2 0 0,1 2,0Z\" style=\"opacity: 1; stroke-width: 0px; fill: rgb(0, 0, 0); fill-opacity: 1;\"/><path class=\"point\" transform=\"translate(257.57,19.42)\" d=\"M2,0A2,2 0 1,1 0,-2A2,2 0 0,1 2,0Z\" style=\"opacity: 1; stroke-width: 0px; fill: rgb(0, 0, 0); fill-opacity: 1;\"/><path class=\"point\" transform=\"translate(261.19,22.23)\" d=\"M2,0A2,2 0 1,1 0,-2A2,2 0 0,1 2,0Z\" style=\"opacity: 1; stroke-width: 0px; fill: rgb(0, 0, 0); fill-opacity: 1;\"/><path class=\"point\" transform=\"translate(264.81,22.56)\" d=\"M2,0A2,2 0 1,1 0,-2A2,2 0 0,1 2,0Z\" style=\"opacity: 1; stroke-width: 0px; fill: rgb(0, 0, 0); fill-opacity: 1;\"/><path class=\"point\" transform=\"translate(268.43,22.44)\" d=\"M2,0A2,2 0 1,1 0,-2A2,2 0 0,1 2,0Z\" style=\"opacity: 1; stroke-width: 0px; fill: rgb(0, 0, 0); fill-opacity: 1;\"/><path class=\"point\" transform=\"translate(272.06,28.12)\" d=\"M2,0A2,2 0 1,1 0,-2A2,2 0 0,1 2,0Z\" style=\"opacity: 1; stroke-width: 0px; fill: rgb(0, 0, 0); fill-opacity: 1;\"/><path class=\"point\" transform=\"translate(275.68,27.44)\" d=\"M2,0A2,2 0 1,1 0,-2A2,2 0 0,1 2,0Z\" style=\"opacity: 1; stroke-width: 0px; fill: rgb(0, 0, 0); fill-opacity: 1;\"/><path class=\"point\" transform=\"translate(279.3,29.73)\" d=\"M2,0A2,2 0 1,1 0,-2A2,2 0 0,1 2,0Z\" style=\"opacity: 1; stroke-width: 0px; fill: rgb(0, 0, 0); fill-opacity: 1;\"/><path class=\"point\" transform=\"translate(282.93,32.71)\" d=\"M2,0A2,2 0 1,1 0,-2A2,2 0 0,1 2,0Z\" style=\"opacity: 1; stroke-width: 0px; fill: rgb(0, 0, 0); fill-opacity: 1;\"/><path class=\"point\" transform=\"translate(286.55,33.03)\" d=\"M2,0A2,2 0 1,1 0,-2A2,2 0 0,1 2,0Z\" style=\"opacity: 1; stroke-width: 0px; fill: rgb(0, 0, 0); fill-opacity: 1;\"/><path class=\"point\" transform=\"translate(290.17,41.2)\" d=\"M2,0A2,2 0 1,1 0,-2A2,2 0 0,1 2,0Z\" style=\"opacity: 1; stroke-width: 0px; fill: rgb(0, 0, 0); fill-opacity: 1;\"/><path class=\"point\" transform=\"translate(293.8,41.48)\" d=\"M2,0A2,2 0 1,1 0,-2A2,2 0 0,1 2,0Z\" style=\"opacity: 1; stroke-width: 0px; fill: rgb(0, 0, 0); fill-opacity: 1;\"/><path class=\"point\" transform=\"translate(297.42,42.22)\" d=\"M2,0A2,2 0 1,1 0,-2A2,2 0 0,1 2,0Z\" style=\"opacity: 1; stroke-width: 0px; fill: rgb(0, 0, 0); fill-opacity: 1;\"/><path class=\"point\" transform=\"translate(301.04,42.16)\" d=\"M2,0A2,2 0 1,1 0,-2A2,2 0 0,1 2,0Z\" style=\"opacity: 1; stroke-width: 0px; fill: rgb(0, 0, 0); fill-opacity: 1;\"/><path class=\"point\" transform=\"translate(304.67,43.98)\" d=\"M2,0A2,2 0 1,1 0,-2A2,2 0 0,1 2,0Z\" style=\"opacity: 1; stroke-width: 0px; fill: rgb(0, 0, 0); fill-opacity: 1;\"/><path class=\"point\" transform=\"translate(308.29,44.19)\" d=\"M2,0A2,2 0 1,1 0,-2A2,2 0 0,1 2,0Z\" style=\"opacity: 1; stroke-width: 0px; fill: rgb(0, 0, 0); fill-opacity: 1;\"/><path class=\"point\" transform=\"translate(311.91,44.36)\" d=\"M2,0A2,2 0 1,1 0,-2A2,2 0 0,1 2,0Z\" style=\"opacity: 1; stroke-width: 0px; fill: rgb(0, 0, 0); fill-opacity: 1;\"/><path class=\"point\" transform=\"translate(315.54,44.3)\" d=\"M2,0A2,2 0 1,1 0,-2A2,2 0 0,1 2,0Z\" style=\"opacity: 1; stroke-width: 0px; fill: rgb(0, 0, 0); fill-opacity: 1;\"/><path class=\"point\" transform=\"translate(319.16,43.59)\" d=\"M2,0A2,2 0 1,1 0,-2A2,2 0 0,1 2,0Z\" style=\"opacity: 1; stroke-width: 0px; fill: rgb(0, 0, 0); fill-opacity: 1;\"/><path class=\"point\" transform=\"translate(322.78,43.82)\" d=\"M2,0A2,2 0 1,1 0,-2A2,2 0 0,1 2,0Z\" style=\"opacity: 1; stroke-width: 0px; fill: rgb(0, 0, 0); fill-opacity: 1;\"/><path class=\"point\" transform=\"translate(326.41,38.51)\" d=\"M2,0A2,2 0 1,1 0,-2A2,2 0 0,1 2,0Z\" style=\"opacity: 1; stroke-width: 0px; fill: rgb(0, 0, 0); fill-opacity: 1;\"/><path class=\"point\" transform=\"translate(330.03,38.74)\" d=\"M2,0A2,2 0 1,1 0,-2A2,2 0 0,1 2,0Z\" style=\"opacity: 1; stroke-width: 0px; fill: rgb(0, 0, 0); fill-opacity: 1;\"/><path class=\"point\" transform=\"translate(333.65,32.94)\" d=\"M2,0A2,2 0 1,1 0,-2A2,2 0 0,1 2,0Z\" style=\"opacity: 1; stroke-width: 0px; fill: rgb(0, 0, 0); fill-opacity: 1;\"/><path class=\"point\" transform=\"translate(337.28,33.24)\" d=\"M2,0A2,2 0 1,1 0,-2A2,2 0 0,1 2,0Z\" style=\"opacity: 1; stroke-width: 0px; fill: rgb(0, 0, 0); fill-opacity: 1;\"/><path class=\"point\" transform=\"translate(340.9,32.45)\" d=\"M2,0A2,2 0 1,1 0,-2A2,2 0 0,1 2,0Z\" style=\"opacity: 1; stroke-width: 0px; fill: rgb(0, 0, 0); fill-opacity: 1;\"/><path class=\"point\" transform=\"translate(344.52,32.19)\" d=\"M2,0A2,2 0 1,1 0,-2A2,2 0 0,1 2,0Z\" style=\"opacity: 1; stroke-width: 0px; fill: rgb(0, 0, 0); fill-opacity: 1;\"/><path class=\"point\" transform=\"translate(348.15,32.04)\" d=\"M2,0A2,2 0 1,1 0,-2A2,2 0 0,1 2,0Z\" style=\"opacity: 1; stroke-width: 0px; fill: rgb(0, 0, 0); fill-opacity: 1;\"/><path class=\"point\" transform=\"translate(351.77,32.46)\" d=\"M2,0A2,2 0 1,1 0,-2A2,2 0 0,1 2,0Z\" style=\"opacity: 1; stroke-width: 0px; fill: rgb(0, 0, 0); fill-opacity: 1;\"/><path class=\"point\" transform=\"translate(355.39,32.43)\" d=\"M2,0A2,2 0 1,1 0,-2A2,2 0 0,1 2,0Z\" style=\"opacity: 1; stroke-width: 0px; fill: rgb(0, 0, 0); fill-opacity: 1;\"/><path class=\"point\" transform=\"translate(359.02,32.43)\" d=\"M2,0A2,2 0 1,1 0,-2A2,2 0 0,1 2,0Z\" style=\"opacity: 1; stroke-width: 0px; fill: rgb(0, 0, 0); fill-opacity: 1;\"/><path class=\"point\" transform=\"translate(362.64,34.16)\" d=\"M2,0A2,2 0 1,1 0,-2A2,2 0 0,1 2,0Z\" style=\"opacity: 1; stroke-width: 0px; fill: rgb(0, 0, 0); fill-opacity: 1;\"/><path class=\"point\" transform=\"translate(366.26,37.3)\" d=\"M2,0A2,2 0 1,1 0,-2A2,2 0 0,1 2,0Z\" style=\"opacity: 1; stroke-width: 0px; fill: rgb(0, 0, 0); fill-opacity: 1;\"/><path class=\"point\" transform=\"translate(369.89,39.74)\" d=\"M2,0A2,2 0 1,1 0,-2A2,2 0 0,1 2,0Z\" style=\"opacity: 1; stroke-width: 0px; fill: rgb(0, 0, 0); fill-opacity: 1;\"/><path class=\"point\" transform=\"translate(373.51,40.08)\" d=\"M2,0A2,2 0 1,1 0,-2A2,2 0 0,1 2,0Z\" style=\"opacity: 1; stroke-width: 0px; fill: rgb(0, 0, 0); fill-opacity: 1;\"/><path class=\"point\" transform=\"translate(377.13,41.39)\" d=\"M2,0A2,2 0 1,1 0,-2A2,2 0 0,1 2,0Z\" style=\"opacity: 1; stroke-width: 0px; fill: rgb(0, 0, 0); fill-opacity: 1;\"/><path class=\"point\" transform=\"translate(380.76,41.26)\" d=\"M2,0A2,2 0 1,1 0,-2A2,2 0 0,1 2,0Z\" style=\"opacity: 1; stroke-width: 0px; fill: rgb(0, 0, 0); fill-opacity: 1;\"/><path class=\"point\" transform=\"translate(384.38,42.38)\" d=\"M2,0A2,2 0 1,1 0,-2A2,2 0 0,1 2,0Z\" style=\"opacity: 1; stroke-width: 0px; fill: rgb(0, 0, 0); fill-opacity: 1;\"/><path class=\"point\" transform=\"translate(388,42.26)\" d=\"M2,0A2,2 0 1,1 0,-2A2,2 0 0,1 2,0Z\" style=\"opacity: 1; stroke-width: 0px; fill: rgb(0, 0, 0); fill-opacity: 1;\"/></g><g class=\"text\"/></g></g></g><g class=\"overplot\"/><path class=\"xlines-above crisp\" style=\"fill: none;\"/><path class=\"ylines-above crisp\" style=\"fill: none;\"/><g class=\"overlines-above\"/><g class=\"xaxislayer-above\"/><g class=\"yaxislayer-above\"/><g class=\"overaxes-above\"/></g><rect class=\"rangeslider-mask-min\" x=\"0\" y=\"0\" shape-rendering=\"crispEdges\" height=\"61.5\" width=\"0\" style=\"fill: rgb(0, 0, 0); fill-opacity: 0.4;\"/><rect class=\"rangeslider-mask-max\" y=\"0\" shape-rendering=\"crispEdges\" height=\"61.5\" x=\"526\" width=\"0\" style=\"fill: rgb(0, 0, 0); fill-opacity: 0.4;\"/><g class=\"rangeslider-grabber-min\" transform=\"translate(-2.5,0.5)\"><rect class=\"rangeslider-handle-min\" x=\"0\" width=\"4\" rx=\"1\" fill=\"#fff\" stroke=\"#444\" stroke-width=\"1\" shape-rendering=\"crispEdges\" y=\"15\" height=\"31\"/><rect class=\"rangeslider-grabarea-min\" width=\"10\" x=\"0\" y=\"0\" fill=\"transparent\" height=\"61.5\"/></g><g class=\"rangeslider-grabber-max\" transform=\"translate(524.5,0.5)\"><rect class=\"rangeslider-handle-max\" x=\"0\" width=\"4\" rx=\"1\" fill=\"#fff\" stroke=\"#444\" stroke-width=\"1\" shape-rendering=\"crispEdges\" y=\"15\" height=\"31\"/><rect class=\"rangeslider-grabarea-max\" width=\"10\" x=\"0\" y=\"0\" fill=\"transparent\" height=\"61.5\"/></g></g><g class=\"g-ytitle\" transform=\"translate(11.587890625,0)\"><text class=\"ytitle\" transform=\"rotate(-90,0.4125000000000014,155.5)\" x=\"0.4125000000000014\" y=\"155.5\" text-anchor=\"middle\" style=\"font-family: 'Open Sans', verdana, arial, sans-serif; font-size: 12px; fill: rgb(42, 63, 95); opacity: 1; font-weight: normal; white-space: pre;\">y</text></g><g class=\"g-xtitle\"><text class=\"xtitle\" x=\"315\" y=\"420.5\" text-anchor=\"middle\" style=\"font-family: 'Open Sans', verdana, arial, sans-serif; font-size: 12px; fill: rgb(42, 63, 95); opacity: 1; font-weight: normal; white-space: pre;\">ds</text></g></g></svg>"
      ]
     },
     "metadata": {},
     "output_type": "display_data"
    }
   ],
   "source": [
    "qr_model.plot(forecast)"
   ]
  },
  {
   "cell_type": "markdown",
   "metadata": {},
   "source": [
    "##  Conformal prediction"
   ]
  },
  {
   "cell_type": "markdown",
   "metadata": {},
   "source": [
    "While there are different ways to carry out conformal prediction, NeuralProphet adopts the split conformal prediction, which requires a holdout or calibration set. To carry out split conformal prediction, the dataset has to be split into three distinct sets for training, calibration and testing respectively. An initial prediction interval is created with the base model trained by the training dataset. Uncertainty is quantified by comparing the target variables in the calibration set against the predicted value. The final conformal prediction interval is then formed by adding the quantified uncertainty to both tails of the predicted value.\n",
    "\n",
    "You can select Naive (or absolute residual) or Conformalized Quantile Regression (or CQR) for the conformal prediction in NeuralProphet. We will be discussing these two options in detail in the following sub section."
   ]
  },
  {
   "cell_type": "markdown",
   "metadata": {},
   "source": [
    "### Calibration and validation set\n",
    "At least three subsets (i.e. testing, calibration and testing) are needed in the conformal prediction feature in NeuralProphet. You may choose to opt in a validation subset in this model. If you want to add in a validation subset to train the base model, please make sure the period of the validation subset must be in between of the training and calibration subsets. We will not cover validation procedure in detail here, you can however refer to the Train, Validate and Test procedure tutorial to know how to build up a NeuralProphet model using validation set.\n",
    "\n",
    "Here, we further divide the calibration set from the training set with a train-calibration ratio of 1/11.\n",
    "\n",
    "After this splitting, we will have 7467, 746 and 547 instances extracted in sequence as training, calibration and testing set respectively."
   ]
  },
  {
   "cell_type": "code",
   "execution_count": 14,
   "metadata": {},
   "outputs": [
    {
     "name": "stderr",
     "output_type": "stream",
     "text": [
      "INFO - (NP.df_utils._infer_frequency) - Major frequency H corresponds to 99.988% of the data.\n",
      "INFO - (NP.df_utils._infer_frequency) - Defined frequency is equal to major frequency - H\n",
      "INFO - (NP.df_utils.return_df_in_original_format) - Returning df with no ID column\n",
      "INFO - (NP.df_utils.return_df_in_original_format) - Returning df with no ID column\n"
     ]
    }
   ],
   "source": [
    "# Add calibration set using the data splitting function\n",
    "train_df, cal_df = m.split_df(train_df, freq=\"H\", valid_p=1.0 / 11)"
   ]
  },
  {
   "cell_type": "code",
   "execution_count": 15,
   "metadata": {},
   "outputs": [
    {
     "data": {
      "text/plain": [
       "((7467, 2), (746, 2), (547, 2))"
      ]
     },
     "execution_count": 15,
     "metadata": {},
     "output_type": "execute_result"
    }
   ],
   "source": [
    "train_df.shape, cal_df.shape, test_df.shape"
   ]
  },
  {
   "cell_type": "code",
   "execution_count": 16,
   "metadata": {},
   "outputs": [
    {
     "name": "stdout",
     "output_type": "stream",
     "text": [
      "Train set time range:        2015-01-01 01:00:00 - 2015-11-08 03:00:00\n",
      "Calibration set time range:  2015-11-08 04:00:00 - 2015-12-09 05:00:00\n",
      "Test set time range:         2015-12-09 06:00:00 - 2016-01-01 00:00:00\n"
     ]
    }
   ],
   "source": [
    "print(f\"Train set time range:        {train_df['ds'].min()} - {train_df['ds'].max()}\")\n",
    "print(f\"Calibration set time range:  {cal_df['ds'].min()} - {cal_df['ds'].max()}\")\n",
    "print(f\"Test set time range:         {test_df['ds'].min()} - {test_df['ds'].max()}\")"
   ]
  },
  {
   "cell_type": "markdown",
   "metadata": {},
   "source": [
    "### Base model training"
   ]
  },
  {
   "cell_type": "markdown",
   "metadata": {},
   "source": [
    "You can build any NeuralProphet model you deemed as fit as the base model. The calibration process in conformal prediction would be later added on the base model to quantify the uncertainty in our final estimation.\n",
    "\n",
    "We are interested to know how conformal prediction affects different models. Back to our example, we will be comparing the conformal prediction results between a simple quantile regression and a complex 4-layer autoregression model in our illustration here. You can refer to the quantile regression session above and the Autoregression standalone tutorial material for the logic and applications of the features."
   ]
  },
  {
   "cell_type": "code",
   "execution_count": 17,
   "metadata": {},
   "outputs": [],
   "source": [
    "# Parameter for autoregression\n",
    "# Predict the value in the next hours based on the last three daysin an-hour steps\n",
    "n_lags = 3 * 24"
   ]
  },
  {
   "cell_type": "code",
   "execution_count": 18,
   "metadata": {},
   "outputs": [],
   "source": [
    "# Create a simple quantile regression model\n",
    "cp_model1 = NeuralProphet(quantiles=quantile_list)\n",
    "cp_model1.set_plotting_backend(\"plotly-static\")\n",
    "\n",
    "# Create a 4-layer autoregression model as the base\n",
    "cp_model2 = NeuralProphet(\n",
    "    yearly_seasonality=False,\n",
    "    weekly_seasonality=False,\n",
    "    daily_seasonality=False,\n",
    "    n_lags=n_lags,\n",
    "    ar_layers=[32, 32, 32, 32],\n",
    "    learning_rate=0.003,\n",
    "    quantiles=quantile_list,\n",
    ")\n",
    "cp_model2.set_plotting_backend(\"plotly-static\")"
   ]
  },
  {
   "cell_type": "markdown",
   "metadata": {},
   "source": [
    "After finish configuring the model, we fit the model with the train set. If you have further split the training dataset into training and validation, you can either (i) concatenate the two datasets in one dataset for training or (ii) assign the training and validation datasets as two separated parameters."
   ]
  },
  {
   "cell_type": "code",
   "execution_count": null,
   "metadata": {},
   "outputs": [
    {
     "name": "stderr",
     "output_type": "stream",
     "text": [
      "WARNING - (NP.forecaster.fit) - When Global modeling with local normalization, metrics are displayed in normalized scale.\n",
      "INFO - (NP.df_utils._infer_frequency) - Major frequency H corresponds to 99.987% of the data.\n",
      "INFO - (NP.df_utils._infer_frequency) - Defined frequency is equal to major frequency - H\n",
      "INFO - (NP.config.init_data_params) - Setting normalization to global as only one dataframe provided for training.\n",
      "INFO - (NP.utils.set_auto_seasonalities) - Disabling yearly seasonality. Run NeuralProphet with yearly_seasonality=True to override this.\n",
      "INFO - (NP.config.set_auto_batch_epoch) - Auto-set batch_size to 32\n",
      "INFO - (NP.config.set_auto_batch_epoch) - Auto-set epochs to 111\n",
      "WARNING - (py.warnings._showwarnmsg) - /Users/vm/anaconda3/envs/py39/lib/python3.9/site-packages/pytorch_lightning/trainer/setup.py:201: UserWarning:\n",
      "\n",
      "MPS available but not used. Set `accelerator` and `devices` using `Trainer(accelerator='mps', devices=1)`.\n",
      "\n",
      "\n",
      "WARNING - (NP.config.set_lr_finder_args) - Learning rate finder: The number of batches (234) is too small than the required number                     for the learning rate finder (246). The results might not be optimal.\n"
     ]
    },
    {
     "data": {
      "application/vnd.jupyter.widget-view+json": {
       "model_id": "ef16590da43e4fccbca9f1c139d8f273",
       "version_major": 2,
       "version_minor": 0
      },
      "text/plain": [
       "Finding best initial lr:   0%|          | 0/246 [00:00<?, ?it/s]"
      ]
     },
     "metadata": {},
     "output_type": "display_data"
    },
    {
     "data": {
      "application/vnd.jupyter.widget-view+json": {
       "model_id": "b7be1c530fc14aefb5b9eee48dbcbb4c",
       "version_major": 2,
       "version_minor": 0
      },
      "text/plain": [
       "Training: 0it [00:00, ?it/s]"
      ]
     },
     "metadata": {},
     "output_type": "display_data"
    },
    {
     "name": "stderr",
     "output_type": "stream",
     "text": [
      "WARNING - (NP.forecaster.fit) - When Global modeling with local normalization, metrics are displayed in normalized scale.\n",
      "INFO - (NP.df_utils._infer_frequency) - Major frequency H corresponds to 99.987% of the data.\n",
      "INFO - (NP.df_utils._infer_frequency) - Defined frequency is equal to major frequency - H\n",
      "INFO - (NP.config.init_data_params) - Setting normalization to global as only one dataframe provided for training.\n",
      "INFO - (NP.config.set_auto_batch_epoch) - Auto-set batch_size to 32\n",
      "INFO - (NP.config.set_auto_batch_epoch) - Auto-set epochs to 111\n",
      "WARNING - (py.warnings._showwarnmsg) - /Users/vm/anaconda3/envs/py39/lib/python3.9/site-packages/pytorch_lightning/trainer/setup.py:201: UserWarning:\n",
      "\n",
      "MPS available but not used. Set `accelerator` and `devices` using `Trainer(accelerator='mps', devices=1)`.\n",
      "\n",
      "\n"
     ]
    },
    {
     "data": {
      "application/vnd.jupyter.widget-view+json": {
       "model_id": "b5cb54b80d2048d1a04571be6cd9d0cb",
       "version_major": 2,
       "version_minor": 0
      },
      "text/plain": [
       "Training: 0it [00:00, ?it/s]"
      ]
     },
     "metadata": {},
     "output_type": "display_data"
    }
   ],
   "source": [
    "# Feed the training subset in the configured NeuralProphet models\n",
    "# Configure the hourly frequency by assigning 'H' to parameter freq\n",
    "set_random_seed(0)\n",
    "metrics1 = cp_model1.fit(train_df, freq=\"H\")\n",
    "set_random_seed(0)\n",
    "metrics2 = cp_model2.fit(train_df, freq=\"H\")"
   ]
  },
  {
   "cell_type": "markdown",
   "metadata": {},
   "source": [
    "We use the fitted base model to forecast both the point prediction and the quantile regression prediction intervals for the testing dataset."
   ]
  },
  {
   "cell_type": "code",
   "execution_count": null,
   "metadata": {},
   "outputs": [],
   "source": [
    "# Perform estimation for the testing data with the trained model\n",
    "forecast1 = cp_model1.predict(test_df)[n_lags:]\n",
    "forecast2 = cp_model2.predict(test_df)[n_lags:]"
   ]
  },
  {
   "cell_type": "markdown",
   "metadata": {},
   "source": [
    "### Option 1: Naive Conformal Prediction"
   ]
  },
  {
   "cell_type": "markdown",
   "metadata": {},
   "source": [
    "After training the base model, we then carry out the calibration process using the naive module. The steps are outlined as follow: i. predict the output value of the instances within the calibration set; ii. calculate absolute residual by comparing the actual and predicted value for each observation in the calibration set; iii. sort all absolute residual in ascending order; iv. finds the quantified uncertainty (\n",
    ") with the desired confidence level; and v. use the quantified uncertainty (\n",
    ") to make the final prediciton intervals.\n",
    "\n",
    "Going back to our example, we need to denote the parameter value for calibration set, significant level (alpha) for conformal prediction on top of the pre-trained models above."
   ]
  },
  {
   "cell_type": "code",
   "execution_count": null,
   "metadata": {},
   "outputs": [],
   "source": [
    "# Parameter for naive conformal prediction\n",
    "method = \"naive\"\n",
    "alpha = 1 - confidence_lv\n",
    "\n",
    "# Enable conformal predict on the pre-trained models\n",
    "# Evaluate parameter is optional, refer to the \"Evaluate Performance\" session below\n",
    "naive_forecast1 = cp_model1.conformal_predict(\n",
    "    test_df,\n",
    "    calibration_df=cal_df,\n",
    "    alpha=alpha,\n",
    "    method=method,\n",
    "    plotting_backend=\"plotly-static\",\n",
    "    show_all_PI=True,\n",
    ")\n",
    "naive_forecast2 = cp_model2.conformal_predict(\n",
    "    test_df,\n",
    "    calibration_df=cal_df,\n",
    "    alpha=alpha,\n",
    "    method=method,\n",
    "    plotting_backend=\"plotly-static\",\n",
    "    show_all_PI=True,\n",
    ")"
   ]
  },
  {
   "cell_type": "markdown",
   "metadata": {},
   "source": [
    "The plots above demonstrate how quantified uncertainty (\n",
    ") change with different confidence level (1-alpha).\n",
    "\n",
    "Below are the \n",
    " values for each model. As they are all positive, you will see the naive interval extending beyond that of simple QR. The weaker model has a large gap between these two intervals since it has a larger \n",
    " value, while the bounds are shifted much less for the complex model."
   ]
  },
  {
   "cell_type": "code",
   "execution_count": null,
   "metadata": {},
   "outputs": [],
   "source": [
    "naive_forecast1"
   ]
  },
  {
   "cell_type": "code",
   "execution_count": null,
   "metadata": {},
   "outputs": [],
   "source": [
    "naive_qhat1 = naive_forecast1.iloc[-1][\"yhat1\"] - naive_forecast1.iloc[-1][\"yhat1 - qhat1\"]  # cp_model1\n",
    "naive_qhat2 = naive_forecast2.iloc[-1][\"yhat1\"] - naive_forecast2.iloc[-1][\"yhat1 - qhat1\"]  # cp_model2\n",
    "naive_qhat1, naive_qhat2"
   ]
  },
  {
   "cell_type": "markdown",
   "metadata": {},
   "source": [
    "We can then plot the predicted intervals (5th, 50th and 95th percentile values) to compare the performance of the models. The quantile regression prediction intervals are annoted in blue while the conformal prediction intervals with the quantified uncertainty included are denoted in red.\n",
    "\n",
    "With the same quantile parameter, the simple model has a much wider quantile regression prediction interval (in blue) comparing to the complex model. The same happens to the conformal prediction intervals (in red), where the weaker model has a wider width, as such it can capture more actual values than the quantile regression prediction intervals."
   ]
  },
  {
   "cell_type": "code",
   "execution_count": null,
   "metadata": {},
   "outputs": [],
   "source": [
    "# Date range shown in the plots (optional)\n",
    "cutoff = 7 * 24\n",
    "\n",
    "fig1 = cp_model1.highlight_nth_step_ahead_of_each_forecast(1).plot(\n",
    "    naive_forecast1[-cutoff:], plotting_backend=\"plotly-static\"\n",
    ")\n",
    "fig2 = cp_model2.highlight_nth_step_ahead_of_each_forecast(1).plot(\n",
    "    naive_forecast2[-cutoff:], plotting_backend=\"plotly-static\"\n",
    ")"
   ]
  },
  {
   "cell_type": "markdown",
   "metadata": {},
   "source": [
    "### Option 2: Conformalized Quantile Regression"
   ]
  },
  {
   "cell_type": "markdown",
   "metadata": {},
   "source": [
    "In Conformalized Quantile Regression, or the cqr module, the method runs as follows: i. calculate non-conformity scores as the differences between data points from the calibration dataset and their nearest prediction quantile, which provides a measure of how well the data fits the current quantile regression model. The non-conformity scores are negative for data points within the quantile regression interval and positive if they are outside the interval; ii. sort list of non-conformity scores; iii. find the value of \n",
    " such that the portion of scores in the list greater than \n",
    " is equal to that error rate; and iv. adjust the quantiles from the regression model by an amount (\n",
    ").\n",
    "\n",
    "There are two scenarios for what the CQR model means based on the value of \n",
    ". If the one-sided prediction interval width adjustment is positive, then CQR extends beyond the QR intervals, as it deems the QR interval to be too confident. Conversely, if the one-sided prediction interval width adjustment is negative, then CQR contracts the QR intervals, as it deems the QR interval to be too conservative."
   ]
  },
  {
   "cell_type": "code",
   "execution_count": null,
   "metadata": {},
   "outputs": [],
   "source": [
    "# Parameter for Conformalized Quantile Regression\n",
    "method = \"cqr\"\n",
    "\n",
    "# Enable conformal predict on the pre-trained models\n",
    "# Evaluate parameter is optional, refer to the \"Evaluate Performance\" session below\n",
    "cqr_forecast1 = cp_model1.conformal_predict(\n",
    "    test_df, calibration_df=cal_df, alpha=alpha, method=method, plotting_backend=\"plotly-static\"\n",
    ")\n",
    "cqr_forecast2 = cp_model2.conformal_predict(\n",
    "    test_df, calibration_df=cal_df, alpha=alpha, method=method, plotting_backend=\"plotly-static\"\n",
    ")"
   ]
  },
  {
   "cell_type": "markdown",
   "metadata": {},
   "source": [
    "Below are the \n",
    " values for each model. As they are all positive, you will see the CQR interval extending beyond that of simple QR. cp_model1 has a large gap between these two intervals since it has a larger \n",
    " value, while the bounds are shifted much less for cp_model2.\n",
    "\n",
    "We again plot the prediction intervals to examine how this CQR method affects the result."
   ]
  },
  {
   "cell_type": "code",
   "execution_count": null,
   "metadata": {},
   "outputs": [],
   "source": [
    "fig1 = cp_model1.highlight_nth_step_ahead_of_each_forecast(1).plot(\n",
    "    cqr_forecast1[-cutoff:], plotting_backend=\"plotly-static\"\n",
    ")\n",
    "fig2 = cp_model2.highlight_nth_step_ahead_of_each_forecast(1).plot(\n",
    "    cqr_forecast2[-cutoff:], plotting_backend=\"plotly-static\"\n",
    ")"
   ]
  },
  {
   "cell_type": "markdown",
   "metadata": {},
   "source": [
    "## Evaluate Performance"
   ]
  },
  {
   "cell_type": "markdown",
   "metadata": {},
   "source": [
    "We are using interval width and miscoverage rate as the performance metrics. - interval_width: The average prediction interval, or q_hat multiplied by 2 because it is static or non-adaptive, this is also knowns as the efficiency metric. - miscoverage_rate: The actual miscoverage error rate on the OOS test set, this is also knowns as the validity metric.\n",
    "\n",
    "The smaller the metrics are, the better the models are performing.\n",
    "\n",
    "Let’s test with the models we trained above. We first build a dataframe with two rows for the two models we trained and then we will concatenate the Naive and CQR performance metrics in the dataframe for the evaluation."
   ]
  },
  {
   "cell_type": "code",
   "execution_count": null,
   "metadata": {},
   "outputs": [],
   "source": [
    "# Create evaluation dataframe skeleton with the 2 models (denoted as m1 and m2)\n",
    "models = [\"m1\", \"m2\"]\n",
    "eval_df = pd.DataFrame(models, columns=pd.MultiIndex.from_tuples([(\"model\", \"\", \"\")]))"
   ]
  },
  {
   "cell_type": "markdown",
   "metadata": {},
   "source": [
    "We are aggregating the performance metrics for naive and put them in the evaluation dataframe skeleton at this session. The performance metrics are calculated when you have turned on the evaluate parameter in the conformal prediction feature."
   ]
  },
  {
   "cell_type": "code",
   "execution_count": null,
   "metadata": {},
   "outputs": [],
   "source": [
    "# Extract the naive performance metrics from their respective forecast datasets\n",
    "naive_eval1 = uncertainty_evaluate(naive_forecast1)\n",
    "naive_eval2 = uncertainty_evaluate(naive_forecast2)\n",
    "\n",
    "# Aggregate the naive performance metrics for m1 and m2\n",
    "naive_evals = [naive_eval1, naive_eval2]\n",
    "naive_eval_df = pd.concat(naive_evals).reset_index(drop=True)"
   ]
  },
  {
   "cell_type": "code",
   "execution_count": null,
   "metadata": {},
   "outputs": [],
   "source": [
    "# Extract the cqr performance metrics from their respective forecast datasets\n",
    "cqr_eval1 = uncertainty_evaluate(cqr_forecast1)\n",
    "cqr_eval2 = uncertainty_evaluate(cqr_forecast2)\n",
    "\n",
    "# Aggregate the cqr performance metrics for m1 and m2\n",
    "cqr_evals = [cqr_eval1, cqr_eval2]\n",
    "cqr_eval_df = pd.concat(cqr_evals).reset_index(drop=True)"
   ]
  },
  {
   "cell_type": "markdown",
   "metadata": {},
   "source": [
    "Lastly, we concatenate the naive and cqr evaluation dataframes and then compare how the models are performing with the naive and cqr prediction."
   ]
  },
  {
   "cell_type": "code",
   "execution_count": null,
   "metadata": {},
   "outputs": [],
   "source": [
    "# Concatenate the naive and cqr evaluation dataframes\n",
    "eval_df = pd.concat([naive_eval_df, cqr_eval_df], axis=1, keys=[\"naive\", \"cqr\"])\n",
    "eval_df"
   ]
  },
  {
   "cell_type": "code",
   "execution_count": null,
   "metadata": {},
   "outputs": [],
   "source": [
    "# Let's compare the results with quantile regression\n",
    "qr_eval = uncertainty_evaluate(forecast1)\n",
    "qr_eval"
   ]
  },
  {
   "cell_type": "markdown",
   "metadata": {
    "id": "g22l8cB7TX3c"
   },
   "source": [
    "**Summary**:\n",
    "\n",
    "- quantile regression does not provide required coverage\n",
    "- The more complex the underlying model, the more accurate it is, hence the lower *interval width* of CP intervals\n",
    "- For default model, CQR outputs narrower prediction *interval width* than Naive"
   ]
  }
 ],
 "metadata": {
  "colab": {
   "provenance": []
  },
  "kernelspec": {
   "display_name": "Python 3 (ipykernel)",
   "language": "python",
   "name": "python3"
  },
  "language_info": {
   "codemirror_mode": {
    "name": "ipython",
    "version": 3
   },
   "file_extension": ".py",
   "mimetype": "text/x-python",
   "name": "python",
   "nbconvert_exporter": "python",
   "pygments_lexer": "ipython3",
   "version": "3.9.16"
  },
  "vscode": {
   "interpreter": {
    "hash": "a9896633dd2687027a97d37c5dc67af73c090796eacc50847f77e025856fff9f"
   }
  },
  "widgets": {
   "application/vnd.jupyter.widget-state+json": {
    "05b62ef9734d4f619fe6b4f2a4dd4899": {
     "model_module": "@jupyter-widgets/controls",
     "model_module_version": "1.5.0",
     "model_name": "HBoxModel",
     "state": {
      "_dom_classes": [],
      "_model_module": "@jupyter-widgets/controls",
      "_model_module_version": "1.5.0",
      "_model_name": "HBoxModel",
      "_view_count": null,
      "_view_module": "@jupyter-widgets/controls",
      "_view_module_version": "1.5.0",
      "_view_name": "HBoxView",
      "box_style": "",
      "children": [
       "IPY_MODEL_747a60da08104ec38e36bd73eea81da3",
       "IPY_MODEL_2c6d2314887849009316eafa529e064b",
       "IPY_MODEL_93cf9871f4434e5cbc57f54b719bf3b6"
      ],
      "layout": "IPY_MODEL_7da6170f51a54db4af89d08536dcd4f5"
     }
    },
    "2c6d2314887849009316eafa529e064b": {
     "model_module": "@jupyter-widgets/controls",
     "model_module_version": "1.5.0",
     "model_name": "FloatProgressModel",
     "state": {
      "_dom_classes": [],
      "_model_module": "@jupyter-widgets/controls",
      "_model_module_version": "1.5.0",
      "_model_name": "FloatProgressModel",
      "_view_count": null,
      "_view_module": "@jupyter-widgets/controls",
      "_view_module_version": "1.5.0",
      "_view_name": "ProgressView",
      "bar_style": "",
      "description": "",
      "description_tooltip": null,
      "layout": "IPY_MODEL_e9d351b6d6314a619c9fe225f7a35cec",
      "max": 246,
      "min": 0,
      "orientation": "horizontal",
      "style": "IPY_MODEL_90704d6b141241e19e4d533f56565136",
      "value": 244
     }
    },
    "3ce8ec391f934dbf9adb3aa3aa5b99b1": {
     "model_module": "@jupyter-widgets/controls",
     "model_module_version": "1.5.0",
     "model_name": "DescriptionStyleModel",
     "state": {
      "_model_module": "@jupyter-widgets/controls",
      "_model_module_version": "1.5.0",
      "_model_name": "DescriptionStyleModel",
      "_view_count": null,
      "_view_module": "@jupyter-widgets/base",
      "_view_module_version": "1.2.0",
      "_view_name": "StyleView",
      "description_width": ""
     }
    },
    "502d72c7889e43f38f1100f5a255f44c": {
     "model_module": "@jupyter-widgets/controls",
     "model_module_version": "1.5.0",
     "model_name": "DescriptionStyleModel",
     "state": {
      "_model_module": "@jupyter-widgets/controls",
      "_model_module_version": "1.5.0",
      "_model_name": "DescriptionStyleModel",
      "_view_count": null,
      "_view_module": "@jupyter-widgets/base",
      "_view_module_version": "1.2.0",
      "_view_name": "StyleView",
      "description_width": ""
     }
    },
    "747a60da08104ec38e36bd73eea81da3": {
     "model_module": "@jupyter-widgets/controls",
     "model_module_version": "1.5.0",
     "model_name": "HTMLModel",
     "state": {
      "_dom_classes": [],
      "_model_module": "@jupyter-widgets/controls",
      "_model_module_version": "1.5.0",
      "_model_name": "HTMLModel",
      "_view_count": null,
      "_view_module": "@jupyter-widgets/controls",
      "_view_module_version": "1.5.0",
      "_view_name": "HTMLView",
      "description": "",
      "description_tooltip": null,
      "layout": "IPY_MODEL_a877e2cbe4ba4ea0b6fc853fcf169a14",
      "placeholder": "​",
      "style": "IPY_MODEL_502d72c7889e43f38f1100f5a255f44c",
      "value": "Finding best initial lr:  99%"
     }
    },
    "7da6170f51a54db4af89d08536dcd4f5": {
     "model_module": "@jupyter-widgets/base",
     "model_module_version": "1.2.0",
     "model_name": "LayoutModel",
     "state": {
      "_model_module": "@jupyter-widgets/base",
      "_model_module_version": "1.2.0",
      "_model_name": "LayoutModel",
      "_view_count": null,
      "_view_module": "@jupyter-widgets/base",
      "_view_module_version": "1.2.0",
      "_view_name": "LayoutView",
      "align_content": null,
      "align_items": null,
      "align_self": null,
      "border": null,
      "bottom": null,
      "display": null,
      "flex": null,
      "flex_flow": null,
      "grid_area": null,
      "grid_auto_columns": null,
      "grid_auto_flow": null,
      "grid_auto_rows": null,
      "grid_column": null,
      "grid_gap": null,
      "grid_row": null,
      "grid_template_areas": null,
      "grid_template_columns": null,
      "grid_template_rows": null,
      "height": null,
      "justify_content": null,
      "justify_items": null,
      "left": null,
      "margin": null,
      "max_height": null,
      "max_width": null,
      "min_height": null,
      "min_width": null,
      "object_fit": null,
      "object_position": null,
      "order": null,
      "overflow": null,
      "overflow_x": null,
      "overflow_y": null,
      "padding": null,
      "right": null,
      "top": null,
      "visibility": null,
      "width": null
     }
    },
    "90704d6b141241e19e4d533f56565136": {
     "model_module": "@jupyter-widgets/controls",
     "model_module_version": "1.5.0",
     "model_name": "ProgressStyleModel",
     "state": {
      "_model_module": "@jupyter-widgets/controls",
      "_model_module_version": "1.5.0",
      "_model_name": "ProgressStyleModel",
      "_view_count": null,
      "_view_module": "@jupyter-widgets/base",
      "_view_module_version": "1.2.0",
      "_view_name": "StyleView",
      "bar_color": null,
      "description_width": ""
     }
    },
    "93cf9871f4434e5cbc57f54b719bf3b6": {
     "model_module": "@jupyter-widgets/controls",
     "model_module_version": "1.5.0",
     "model_name": "HTMLModel",
     "state": {
      "_dom_classes": [],
      "_model_module": "@jupyter-widgets/controls",
      "_model_module_version": "1.5.0",
      "_model_name": "HTMLModel",
      "_view_count": null,
      "_view_module": "@jupyter-widgets/controls",
      "_view_module_version": "1.5.0",
      "_view_name": "HTMLView",
      "description": "",
      "description_tooltip": null,
      "layout": "IPY_MODEL_f52d7184a91648a5a958044a9b487f8e",
      "placeholder": "​",
      "style": "IPY_MODEL_3ce8ec391f934dbf9adb3aa3aa5b99b1",
      "value": " 244/246 [00:03&lt;00:00, 77.42it/s]"
     }
    },
    "a877e2cbe4ba4ea0b6fc853fcf169a14": {
     "model_module": "@jupyter-widgets/base",
     "model_module_version": "1.2.0",
     "model_name": "LayoutModel",
     "state": {
      "_model_module": "@jupyter-widgets/base",
      "_model_module_version": "1.2.0",
      "_model_name": "LayoutModel",
      "_view_count": null,
      "_view_module": "@jupyter-widgets/base",
      "_view_module_version": "1.2.0",
      "_view_name": "LayoutView",
      "align_content": null,
      "align_items": null,
      "align_self": null,
      "border": null,
      "bottom": null,
      "display": null,
      "flex": null,
      "flex_flow": null,
      "grid_area": null,
      "grid_auto_columns": null,
      "grid_auto_flow": null,
      "grid_auto_rows": null,
      "grid_column": null,
      "grid_gap": null,
      "grid_row": null,
      "grid_template_areas": null,
      "grid_template_columns": null,
      "grid_template_rows": null,
      "height": null,
      "justify_content": null,
      "justify_items": null,
      "left": null,
      "margin": null,
      "max_height": null,
      "max_width": null,
      "min_height": null,
      "min_width": null,
      "object_fit": null,
      "object_position": null,
      "order": null,
      "overflow": null,
      "overflow_x": null,
      "overflow_y": null,
      "padding": null,
      "right": null,
      "top": null,
      "visibility": null,
      "width": null
     }
    },
    "e9d351b6d6314a619c9fe225f7a35cec": {
     "model_module": "@jupyter-widgets/base",
     "model_module_version": "1.2.0",
     "model_name": "LayoutModel",
     "state": {
      "_model_module": "@jupyter-widgets/base",
      "_model_module_version": "1.2.0",
      "_model_name": "LayoutModel",
      "_view_count": null,
      "_view_module": "@jupyter-widgets/base",
      "_view_module_version": "1.2.0",
      "_view_name": "LayoutView",
      "align_content": null,
      "align_items": null,
      "align_self": null,
      "border": null,
      "bottom": null,
      "display": null,
      "flex": null,
      "flex_flow": null,
      "grid_area": null,
      "grid_auto_columns": null,
      "grid_auto_flow": null,
      "grid_auto_rows": null,
      "grid_column": null,
      "grid_gap": null,
      "grid_row": null,
      "grid_template_areas": null,
      "grid_template_columns": null,
      "grid_template_rows": null,
      "height": null,
      "justify_content": null,
      "justify_items": null,
      "left": null,
      "margin": null,
      "max_height": null,
      "max_width": null,
      "min_height": null,
      "min_width": null,
      "object_fit": null,
      "object_position": null,
      "order": null,
      "overflow": null,
      "overflow_x": null,
      "overflow_y": null,
      "padding": null,
      "right": null,
      "top": null,
      "visibility": null,
      "width": null
     }
    },
    "f52d7184a91648a5a958044a9b487f8e": {
     "model_module": "@jupyter-widgets/base",
     "model_module_version": "1.2.0",
     "model_name": "LayoutModel",
     "state": {
      "_model_module": "@jupyter-widgets/base",
      "_model_module_version": "1.2.0",
      "_model_name": "LayoutModel",
      "_view_count": null,
      "_view_module": "@jupyter-widgets/base",
      "_view_module_version": "1.2.0",
      "_view_name": "LayoutView",
      "align_content": null,
      "align_items": null,
      "align_self": null,
      "border": null,
      "bottom": null,
      "display": null,
      "flex": null,
      "flex_flow": null,
      "grid_area": null,
      "grid_auto_columns": null,
      "grid_auto_flow": null,
      "grid_auto_rows": null,
      "grid_column": null,
      "grid_gap": null,
      "grid_row": null,
      "grid_template_areas": null,
      "grid_template_columns": null,
      "grid_template_rows": null,
      "height": null,
      "justify_content": null,
      "justify_items": null,
      "left": null,
      "margin": null,
      "max_height": null,
      "max_width": null,
      "min_height": null,
      "min_width": null,
      "object_fit": null,
      "object_position": null,
      "order": null,
      "overflow": null,
      "overflow_x": null,
      "overflow_y": null,
      "padding": null,
      "right": null,
      "top": null,
      "visibility": null,
      "width": null
     }
    }
   }
  }
 },
 "nbformat": 4,
 "nbformat_minor": 1
}
